{
  "nbformat": 4,
  "nbformat_minor": 0,
  "metadata": {
    "kernelspec": {
      "name": "python3",
      "display_name": "Python 3",
      "language": "python"
    },
    "language_info": {
      "name": "python",
      "version": "3.7.6",
      "mimetype": "text/x-python",
      "codemirror_mode": {
        "name": "ipython",
        "version": 3
      },
      "pygments_lexer": "ipython3",
      "nbconvert_exporter": "python",
      "file_extension": ".py"
    },
    "colab": {
      "name": "web-scraping-com-python-parte-2.ipynb",
      "provenance": [],
      "include_colab_link": true
    }
  },
  "cells": [
    {
      "cell_type": "markdown",
      "metadata": {
        "id": "view-in-github",
        "colab_type": "text"
      },
      "source": [
        "<a href=\"https://colab.research.google.com/github/jscienciadados/webscraping/blob/main/web_scraping_com_python_parte_2.ipynb\" target=\"_parent\"><img src=\"https://colab.research.google.com/assets/colab-badge.svg\" alt=\"Open In Colab\"/></a>"
      ]
    },
    {
      "cell_type": "markdown",
      "metadata": {
        "id": "2OctYXE0mqDV"
      },
      "source": [
        "# Web Scraping com Python (Parte 2)\n",
        "\n",
        "## Resumo\n",
        "\n",
        "Neste notebook, iremos explorar e coletar dados do site [Oceano de Aluguéis](https://ocean-web-scraping.herokuapp.com/) utilizando a biblioteca [Beautiful Soup](https://www.crummy.com/software/BeautifulSoup/bs4/doc/). Em seguida, iremos analisar todas as informações coletadas.\n",
        "\n",
        "## Para saber mais:\n",
        "\n",
        "* Palestras e cursos do [Samsung Ocean](http://www.oceanbrasil.com/).\n",
        "* Ryan Mitchell. Web Scraping com Python: Coletando Mais Dados da Web Moderna. Novatec Editora, 2019."
      ]
    },
    {
      "cell_type": "markdown",
      "metadata": {
        "id": "u6xrZqhFmqDa"
      },
      "source": [
        "## 1) Criando os objetos Beautiful Soup"
      ]
    },
    {
      "cell_type": "code",
      "metadata": {
        "trusted": true,
        "id": "iokqLJ-WmqDc"
      },
      "source": [
        "from bs4 import BeautifulSoup\n",
        "from urllib.request import urlopen"
      ],
      "execution_count": null,
      "outputs": []
    },
    {
      "cell_type": "code",
      "metadata": {
        "trusted": true,
        "id": "L7zRljnHmqDd"
      },
      "source": [
        "url_sobre = 'https://ocean-web-scraping.herokuapp.com/sobre.html'\n",
        "url_busca = 'https://ocean-web-scraping.herokuapp.com/'\n",
        "url_corretoras = 'https://ocean-web-scraping.herokuapp.com/corretoras.html'"
      ],
      "execution_count": null,
      "outputs": []
    },
    {
      "cell_type": "markdown",
      "metadata": {
        "id": "VjAdtm9smqDe"
      },
      "source": [
        "### 1.1) Página 'Sobre'"
      ]
    },
    {
      "cell_type": "code",
      "metadata": {
        "_uuid": "d629ff2d2480ee46fbb7e2d37f6b5fab8052498a",
        "_cell_guid": "79c7e3d0-c299-4dcb-8224-4455121ee9b0",
        "trusted": true,
        "id": "kTekc16ImqDf",
        "outputId": "737b02c2-da21-42c8-fb63-00faf2ac1e37"
      },
      "source": [
        "response_sobre = urlopen(url_sobre)\n",
        "html_sobre = response_sobre.read()\n",
        "html_sobre"
      ],
      "execution_count": null,
      "outputs": [
        {
          "output_type": "execute_result",
          "data": {
            "text/plain": [
              "b'<!DOCTYPE html>\\n<html lang=\"pt-br\">\\n\\t<head>\\n\\t\\t<meta charset=\"UTF-8\">\\n\\t\\t<meta name=\"viewport\" content=\"width=device-width\">\\n\\n\\t\\t<title>Oceano de Alugu\\xc3\\xa9is</title>\\n\\t\\t\\n\\t\\t<link rel=\"stylesheet\" href=\"reset.css\">\\n\\t\\t<link rel=\"stylesheet\" href=\"style.css\">\\n\\t\\t<link href=\"https://fonts.googleapis.com/css?family=Montserrat&display=swap\" rel=\"stylesheet\">\\n\\t</head>\\n\\n\\t<body>\\n\\t\\t<header>\\n\\t\\t\\t<div>\\n\\t\\t\\t\\t<img src=\"imagens/oceano-logo.png\">\\n\\t\\t\\t\\t<h1>Oceano de Alugu\\xc3\\xa9is</h1>\\n\\t\\t\\t\\t<nav>\\n\\t\\t\\t\\t\\t<ul>\\n\\t\\t\\t\\t\\t\\t<li><a href=\"results&page=1.html\">Resultados</a></li>\\n\\t\\t\\t\\t\\t\\t<li><a href=\"corretoras.html\">Corretoras</a></li>\\n\\t\\t\\t\\t\\t\\t<li><a href=\"sobre.html\">Sobre</a></li>\\n\\t\\t\\t\\t\\t</ul>\\n\\t\\t\\t\\t</nav>\\n\\t\\t\\t</div>\\n\\t\\t</header>\\n\\n\\t\\t<main>\\n\\t\\t\\t<div class=\"about\">\\n\\t\\t\\t\\t<h2>Sobre este site</h2>\\n\\n\\t\\t\\t\\t<p>Este site foi criado para treinamentos de Web Scraping do <a href=\"http://www.oceanbrasil.com/\">Ocean</a>.</p>\\n\\n\\t\\t\\t\\t<p>Vamos para os primeiros desafios?</p>\\n\\n\\t\\t\\t\\t<ol>\\n\\t\\t\\t\\t\\t<li>Que tal coletar o texto <em>\"Sobre este site\"</em> para come\\xc3\\xa7ar?</li>\\n\\t\\t\\t\\t\\t<li>Agora extraia o link contido na palavra <em>\"Ocean\"</em>.</li>\\n\\t\\t\\t\\t\\t<li>Em seguida, colete todos os itens desta lista.</li>\\n\\t\\t\\t\\t\\t<li>Por fim, colete apenas este \\xc3\\xbaltimo item da lista.</li>\\n\\t\\t\\t\\t</ol>\\n\\t\\t\\t</div>\\n\\t\\t</main>\\n\\n\\t\\t<footer>\\n\\t\\t\\t<img src=\"imagens/oceano-logo-cinza.png\">\\n\\t\\t\\t<p>Site criado para o curso de Web Scraping do Ocean</p>\\n\\t\\t</footer>\\n\\t</body>\\n</html>'"
            ]
          },
          "metadata": {
            "tags": []
          },
          "execution_count": 4
        }
      ]
    },
    {
      "cell_type": "code",
      "metadata": {
        "trusted": true,
        "id": "D3N9JGQ0mqDg",
        "outputId": "791d57c6-1ea7-4d0e-843a-b3966b579935"
      },
      "source": [
        "soup_sobre = BeautifulSoup(html_sobre, 'html.parser')\n",
        "soup_sobre"
      ],
      "execution_count": null,
      "outputs": [
        {
          "output_type": "execute_result",
          "data": {
            "text/plain": [
              "<!DOCTYPE html>\n",
              "\n",
              "<html lang=\"pt-br\">\n",
              "<head>\n",
              "<meta charset=\"utf-8\"/>\n",
              "<meta content=\"width=device-width\" name=\"viewport\"/>\n",
              "<title>Oceano de Aluguéis</title>\n",
              "<link href=\"reset.css\" rel=\"stylesheet\"/>\n",
              "<link href=\"style.css\" rel=\"stylesheet\"/>\n",
              "<link href=\"https://fonts.googleapis.com/css?family=Montserrat&amp;display=swap\" rel=\"stylesheet\"/>\n",
              "</head>\n",
              "<body>\n",
              "<header>\n",
              "<div>\n",
              "<img src=\"imagens/oceano-logo.png\"/>\n",
              "<h1>Oceano de Aluguéis</h1>\n",
              "<nav>\n",
              "<ul>\n",
              "<li><a href=\"results&amp;page=1.html\">Resultados</a></li>\n",
              "<li><a href=\"corretoras.html\">Corretoras</a></li>\n",
              "<li><a href=\"sobre.html\">Sobre</a></li>\n",
              "</ul>\n",
              "</nav>\n",
              "</div>\n",
              "</header>\n",
              "<main>\n",
              "<div class=\"about\">\n",
              "<h2>Sobre este site</h2>\n",
              "<p>Este site foi criado para treinamentos de Web Scraping do <a href=\"http://www.oceanbrasil.com/\">Ocean</a>.</p>\n",
              "<p>Vamos para os primeiros desafios?</p>\n",
              "<ol>\n",
              "<li>Que tal coletar o texto <em>\"Sobre este site\"</em> para começar?</li>\n",
              "<li>Agora extraia o link contido na palavra <em>\"Ocean\"</em>.</li>\n",
              "<li>Em seguida, colete todos os itens desta lista.</li>\n",
              "<li>Por fim, colete apenas este último item da lista.</li>\n",
              "</ol>\n",
              "</div>\n",
              "</main>\n",
              "<footer>\n",
              "<img src=\"imagens/oceano-logo-cinza.png\"/>\n",
              "<p>Site criado para o curso de Web Scraping do Ocean</p>\n",
              "</footer>\n",
              "</body>\n",
              "</html>"
            ]
          },
          "metadata": {
            "tags": []
          },
          "execution_count": 6
        }
      ]
    },
    {
      "cell_type": "markdown",
      "metadata": {
        "id": "hjPo_xoVmqDh"
      },
      "source": [
        "### 1.2) Página de resultados da busca por imóveis"
      ]
    },
    {
      "cell_type": "code",
      "metadata": {
        "trusted": true,
        "id": "5wlrlX1GmqDh",
        "outputId": "a2ecc313-e818-4f18-9a29-d5bfa3735df7"
      },
      "source": [
        "response_busca = urlopen(url_busca)\n",
        "html_busca = response_busca.read()\n",
        "html_busca"
      ],
      "execution_count": null,
      "outputs": [
        {
          "output_type": "execute_result",
          "data": {
            "text/plain": [
              "b'<!DOCTYPE html>\\n<html lang=\"pt-br\">\\n\\t<head>\\n\\t\\t<meta charset=\"UTF-8\">\\n\\t\\t<meta name=\"viewport\" content=\"width=device-width\">\\n\\n\\t\\t<title>Oceano de Alugu\\xc3\\xa9is</title>\\n\\t\\t\\n\\t\\t<link rel=\"stylesheet\" href=\"reset.css\">\\n\\t\\t<link rel=\"stylesheet\" href=\"style.css\">\\n\\t\\t<link href=\"https://fonts.googleapis.com/css?family=Montserrat&display=swap\" rel=\"stylesheet\">\\n\\t</head>\\n\\n\\t<body>\\n\\t\\t<header>\\n\\t\\t\\t<div>\\n\\t\\t\\t\\t<img src=\"imagens/oceano-logo.png\">\\n\\t\\t\\t\\t<h1>Oceano de Alugu\\xc3\\xa9is</h1>\\n\\t\\t\\t\\t<nav>\\n\\t\\t\\t\\t\\t<ul>\\n\\t\\t\\t\\t\\t\\t<li><a href=\"results&page=1.html\">Resultados</a></li>\\n\\t\\t\\t\\t\\t\\t<li><a href=\"corretoras.html\">Corretoras</a></li>\\n\\t\\t\\t\\t\\t\\t<li><a href=\"sobre.html\">Sobre</a></li>\\n\\t\\t\\t\\t\\t</ul>\\n\\t\\t\\t\\t</nav>\\n\\t\\t\\t</div>\\n\\t\\t</header>\\n\\n\\t\\t<main>\\n\\t\\t\\t<div class=\"ad-card-list\">\\n\\t\\t\\t\\t<p>21 resultados obtidos - P\\xc3\\xa1gina 1</p>\\n\\n\\t\\t\\t\\t<div class=\"ad-card\">\\n\\t\\t\\t\\t\\t<img src=\"imagens/apto-01.jpg\" class=\"apto-img\">\\n\\t\\t\\t\\t\\t\\n\\t\\t\\t\\t\\t<div class=\"ad-card-info\">\\n\\t\\t\\t\\t\\t\\t<h2>Lindo apartamento para alugar</h2>\\n\\n\\t\\t\\t\\t\\t\\t<ul class=\"features\">\\n\\t\\t\\t\\t\\t\\t\\t<li><img src=\"imagens/area.png\"> 100 m\\xc2\\xb2</li>\\n\\t\\t\\t\\t\\t\\t\\t<li><img src=\"imagens/bedrooms.png\"> 3 quarto(s)</li>\\n\\t\\t\\t\\t\\t\\t\\t<li><img src=\"imagens/toilet.png\"> 2 banheiro(s)</li>\\n\\t\\t\\t\\t\\t\\t\\t<li><img src=\"imagens/parking.png\"> 2 vaga(s)</li>\\n\\t\\t\\t\\t\\t\\t</ul>\\n\\n\\t\\t\\t\\t\\t\\t<ul class=\"resources\">\\n\\t\\t\\t\\t\\t\\t\\t<li>Mobiliado</li>\\n\\t\\t\\t\\t\\t\\t\\t<li>Portaria 24h</li>\\n\\t\\t\\t\\t\\t\\t\\t<li>Elevador</li>\\n\\t\\t\\t\\t\\t\\t\\t<li>Piscina</li>\\n\\t\\t\\t\\t\\t\\t\\t<li>Churrasqueira</li>\\n\\t\\t\\t\\t\\t\\t\\t<li>Sal\\xc3\\xa3o de Festas</li>\\n\\t\\t\\t\\t\\t\\t\\t<li>Academia</li>\\n\\t\\t\\t\\t\\t\\t\\t<li>Playground</li>\\n\\t\\t\\t\\t\\t\\t\\t<li>Quadra poliesportiva</li>\\n\\t\\t\\t\\t\\t\\t\\t<li>Sal\\xc3\\xa3o de jogos</li>\\n\\t\\t\\t\\t\\t\\t\\t<li>Aceita animais</li>\\n\\t\\t\\t\\t\\t\\t</ul>\\n\\n\\t\\t\\t\\t\\t\\t<p>Localiza\\xc3\\xa7\\xc3\\xa3o: Oceano Pac\\xc3\\xadfico</p>\\n\\t\\t\\t\\t\\t</div>\\n\\n\\t\\t\\t\\t\\t<div class=\"ad-card-price\">\\n\\t\\t\\t\\t\\t\\t<p>Aluguel: R$ 4.000,00</p>\\n\\t\\t\\t\\t\\t\\t<p>Condom\\xc3\\xadnio: 500,00</p>\\n\\t\\t\\t\\t\\t\\t<p>IPTU: R$ 100,00</p>\\n\\t\\t\\t\\t\\t\\t<p>Corretora: Tubar\\xc3\\xa3o</p>\\n\\t\\t\\t\\t\\t</div>\\n\\t\\t\\t\\t</div>\\n\\n\\t\\t\\t\\t<div class=\"ad-card\">\\n\\t\\t\\t\\t\\t<img src=\"imagens/apto-02.jpg\" class=\"apto-img\">\\n\\t\\t\\t\\t\\t\\n\\t\\t\\t\\t\\t<div class=\"ad-card-info\">\\n\\t\\t\\t\\t\\t\\t<h2>\\xc3\\x93timo lugar para morar</h2>\\n\\n\\t\\t\\t\\t\\t\\t<ul class=\"features\">\\n\\t\\t\\t\\t\\t\\t\\t<li><img src=\"imagens/area.png\"> 60 m\\xc2\\xb2</li>\\n\\t\\t\\t\\t\\t\\t\\t<li><img src=\"imagens/bedrooms.png\"> 2 quarto(s)</li>\\n\\t\\t\\t\\t\\t\\t\\t<li><img src=\"imagens/toilet.png\"> 2 banheiro(s)</li>\\n\\t\\t\\t\\t\\t\\t\\t<li><img src=\"imagens/parking.png\"> 1 vaga(s)</li>\\n\\t\\t\\t\\t\\t\\t</ul>\\n\\n\\t\\t\\t\\t\\t\\t<ul class=\"resources\">\\n\\t\\t\\t\\t\\t\\t\\t<li>Mobiliado</li>\\n\\t\\t\\t\\t\\t\\t\\t<li>Portaria 24h</li>\\n\\t\\t\\t\\t\\t\\t\\t<li>Sal\\xc3\\xa3o de Festas</li>\\n\\t\\t\\t\\t\\t\\t\\t<li>Quadra poliesportiva</li>\\n\\t\\t\\t\\t\\t\\t</ul>\\n\\n\\t\\t\\t\\t\\t\\t<p>Localiza\\xc3\\xa7\\xc3\\xa3o: Oceano \\xc3\\x8dndico</p>\\n\\t\\t\\t\\t\\t</div>\\n\\n\\t\\t\\t\\t\\t<div class=\"ad-card-price\">\\n\\t\\t\\t\\t\\t\\t<p>Aluguel: R$ 2.000,00</p>\\n\\t\\t\\t\\t\\t\\t<p>Condom\\xc3\\xadnio: 200,00</p>\\n\\t\\t\\t\\t\\t\\t<p>IPTU: R$ 50,00</p>\\n\\t\\t\\t\\t\\t\\t<p>Corretora: Carangueijo</p>\\n\\t\\t\\t\\t\\t</div>\\n\\t\\t\\t\\t</div>\\n\\n\\t\\t\\t\\t<div class=\"ad-card\">\\n\\t\\t\\t\\t\\t<img src=\"imagens/apto-03.jpg\" class=\"apto-img\">\\n\\t\\t\\t\\t\\t\\n\\t\\t\\t\\t\\t<div class=\"ad-card-info\">\\n\\t\\t\\t\\t\\t\\t<h2>Bel\\xc3\\xadssimo apartamento mobiliado</h2>\\n\\n\\t\\t\\t\\t\\t\\t<ul class=\"features\">\\n\\t\\t\\t\\t\\t\\t\\t<li><img src=\"imagens/area.png\"> 50 m\\xc2\\xb2</li>\\n\\t\\t\\t\\t\\t\\t\\t<li><img src=\"imagens/bedrooms.png\"> 1 quarto(s)</li>\\n\\t\\t\\t\\t\\t\\t\\t<li><img src=\"imagens/toilet.png\"> 1 banheiro(s)</li>\\n\\t\\t\\t\\t\\t\\t\\t<li><img src=\"imagens/parking.png\"> 1 vaga(s)</li>\\n\\t\\t\\t\\t\\t\\t</ul>\\n\\n\\t\\t\\t\\t\\t\\t<ul class=\"resources\">\\n\\t\\t\\t\\t\\t\\t\\t<li>Mobiliado</li>\\n\\t\\t\\t\\t\\t\\t</ul>\\n\\n\\t\\t\\t\\t\\t\\t<p>Localiza\\xc3\\xa7\\xc3\\xa3o: Mar de Java</p>\\n\\t\\t\\t\\t\\t</div>\\n\\n\\t\\t\\t\\t\\t<div class=\"ad-card-price\">\\n\\t\\t\\t\\t\\t\\t<p>Aluguel: R$ 1.300,00</p>\\n\\t\\t\\t\\t\\t\\t<p>Condom\\xc3\\xadnio: 200,00</p>\\n\\t\\t\\t\\t\\t\\t<p>IPTU: R$ 50,00</p>\\n\\t\\t\\t\\t\\t\\t<p>Corretora: Baleia Azul</p>\\n\\t\\t\\t\\t\\t</div>\\n\\t\\t\\t\\t</div>\\n\\n\\t\\t\\t\\t<div class=\"ad-card\">\\n\\t\\t\\t\\t\\t<img src=\"imagens/apto-04.jpg\" class=\"apto-img\">\\n\\t\\t\\t\\t\\t\\n\\t\\t\\t\\t\\t<div class=\"ad-card-info\">\\n\\t\\t\\t\\t\\t\\t<h2>Um cantinho todo seu</h2>\\n\\n\\t\\t\\t\\t\\t\\t<ul class=\"features\">\\n\\t\\t\\t\\t\\t\\t\\t<li><img src=\"imagens/area.png\"> 60 m\\xc2\\xb2</li>\\n\\t\\t\\t\\t\\t\\t\\t<li><img src=\"imagens/bedrooms.png\"> 2 quarto(s)</li>\\n\\t\\t\\t\\t\\t\\t\\t<li><img src=\"imagens/toilet.png\"> 2 banheiro(s)</li>\\n\\t\\t\\t\\t\\t\\t\\t<li><img src=\"imagens/parking.png\"> 1 vaga(s)</li>\\n\\t\\t\\t\\t\\t\\t</ul>\\n\\n\\t\\t\\t\\t\\t\\t<ul class=\"resources\">\\n\\t\\t\\t\\t\\t\\t\\t<li>Mobiliado</li>\\n\\t\\t\\t\\t\\t\\t\\t<li>Portaria 24h</li>\\n\\t\\t\\t\\t\\t\\t</ul>\\n\\n\\t\\t\\t\\t\\t\\t<p>Localiza\\xc3\\xa7\\xc3\\xa3o: Oceano \\xc3\\x8dndico</p>\\n\\t\\t\\t\\t\\t</div>\\n\\n\\t\\t\\t\\t\\t<div class=\"ad-card-price\">\\n\\t\\t\\t\\t\\t\\t<p>Aluguel: R$ 1.800,00</p>\\n\\t\\t\\t\\t\\t\\t<p>Condom\\xc3\\xadnio: 100,00</p>\\n\\t\\t\\t\\t\\t\\t<p>IPTU: R$ 20,00</p>\\n\\t\\t\\t\\t\\t\\t<p>Corretora: Baleia Azul</p>\\n\\t\\t\\t\\t\\t</div>\\n\\t\\t\\t\\t</div>\\n\\n\\t\\t\\t\\t<div class=\"ad-card\">\\n\\t\\t\\t\\t\\t<img src=\"imagens/apto-05.jpg\" class=\"apto-img\">\\n\\t\\t\\t\\t\\t\\n\\t\\t\\t\\t\\t<div class=\"ad-card-info\">\\n\\t\\t\\t\\t\\t\\t<h2>Alugue j\\xc3\\xa1! \\xc3\\x93tima oportunidade</h2>\\n\\n\\t\\t\\t\\t\\t\\t<ul class=\"features\">\\n\\t\\t\\t\\t\\t\\t\\t<li><img src=\"imagens/area.png\"> 120 m\\xc2\\xb2</li>\\n\\t\\t\\t\\t\\t\\t\\t<li><img src=\"imagens/bedrooms.png\"> 4 quarto(s)</li>\\n\\t\\t\\t\\t\\t\\t\\t<li><img src=\"imagens/toilet.png\"> 3 banheiro(s)</li>\\n\\t\\t\\t\\t\\t\\t\\t<li><img src=\"imagens/parking.png\"> 2 vaga(s)</li>\\n\\t\\t\\t\\t\\t\\t</ul>\\n\\n\\t\\t\\t\\t\\t\\t<ul class=\"resources\">\\n\\t\\t\\t\\t\\t\\t\\t<li>Mobiliado</li>\\n\\t\\t\\t\\t\\t\\t\\t<li>Portaria 24h</li>\\n\\t\\t\\t\\t\\t\\t\\t<li>Elevador</li>\\n\\t\\t\\t\\t\\t\\t\\t<li>Piscina</li>\\n\\t\\t\\t\\t\\t\\t\\t<li>Churrasqueira</li>\\n\\t\\t\\t\\t\\t\\t\\t<li>Sal\\xc3\\xa3o de Festas</li>\\n\\t\\t\\t\\t\\t\\t\\t<li>Academia</li>\\n\\t\\t\\t\\t\\t\\t\\t<li>Playground</li>\\n\\t\\t\\t\\t\\t\\t\\t<li>Quadra poliesportiva</li>\\n\\t\\t\\t\\t\\t\\t\\t<li>Sal\\xc3\\xa3o de jogos</li>\\n\\t\\t\\t\\t\\t\\t\\t<li>Aceita animais</li>\\n\\t\\t\\t\\t\\t\\t</ul>\\n\\n\\t\\t\\t\\t\\t\\t<p>Localiza\\xc3\\xa7\\xc3\\xa3o: Oceano Pac\\xc3\\xadfico</p>\\n\\t\\t\\t\\t\\t</div>\\n\\n\\t\\t\\t\\t\\t<div class=\"ad-card-price\">\\n\\t\\t\\t\\t\\t\\t<p>Aluguel: R$ 3.800,00</p>\\n\\t\\t\\t\\t\\t\\t<p>Condom\\xc3\\xadnio: 500,00</p>\\n\\t\\t\\t\\t\\t\\t<p>IPTU: R$ 200,00</p>\\n\\t\\t\\t\\t\\t\\t<p>Corretora: Tubar\\xc3\\xa3o</p>\\n\\t\\t\\t\\t\\t</div>\\n\\t\\t\\t\\t</div>\\n\\t\\t\\t</div>\\n\\n\\t\\t\\t<div class=\"pagination\">\\n  \\t\\t\\t\\t<a class=\"inactive\" href=\"#\">&laquo;</a>\\n  \\t\\t\\t\\t<a class=\"active\" href=\"#\">1</a>\\n  \\t\\t\\t\\t<a href=\"results&page=2.html\">2</a>\\n  \\t\\t\\t\\t<a href=\"results&page=3.html\">3</a>\\n\\t\\t\\t\\t<a href=\"results&page=2.html\">&raquo;</a>\\n\\t\\t\\t</div>\\n\\t\\t</main>\\n\\n\\t\\t<footer>\\n\\t\\t\\t<img src=\"imagens/oceano-logo-cinza.png\">\\n\\t\\t\\t<p>Site criado para o curso de Web Scraping do Ocean</p>\\n\\t\\t</footer>\\n\\t</body>\\n</html>'"
            ]
          },
          "metadata": {
            "tags": []
          },
          "execution_count": 7
        }
      ]
    },
    {
      "cell_type": "code",
      "metadata": {
        "trusted": true,
        "id": "TY_rY5DKmqDi",
        "outputId": "4753b836-5468-4728-bc74-474f5a959da7"
      },
      "source": [
        "soup_busca = BeautifulSoup(html_busca, 'html.parser')\n",
        "soup_busca"
      ],
      "execution_count": null,
      "outputs": [
        {
          "output_type": "execute_result",
          "data": {
            "text/plain": [
              "<!DOCTYPE html>\n",
              "\n",
              "<html lang=\"pt-br\">\n",
              "<head>\n",
              "<meta charset=\"utf-8\"/>\n",
              "<meta content=\"width=device-width\" name=\"viewport\"/>\n",
              "<title>Oceano de Aluguéis</title>\n",
              "<link href=\"reset.css\" rel=\"stylesheet\"/>\n",
              "<link href=\"style.css\" rel=\"stylesheet\"/>\n",
              "<link href=\"https://fonts.googleapis.com/css?family=Montserrat&amp;display=swap\" rel=\"stylesheet\"/>\n",
              "</head>\n",
              "<body>\n",
              "<header>\n",
              "<div>\n",
              "<img src=\"imagens/oceano-logo.png\"/>\n",
              "<h1>Oceano de Aluguéis</h1>\n",
              "<nav>\n",
              "<ul>\n",
              "<li><a href=\"results&amp;page=1.html\">Resultados</a></li>\n",
              "<li><a href=\"corretoras.html\">Corretoras</a></li>\n",
              "<li><a href=\"sobre.html\">Sobre</a></li>\n",
              "</ul>\n",
              "</nav>\n",
              "</div>\n",
              "</header>\n",
              "<main>\n",
              "<div class=\"ad-card-list\">\n",
              "<p>21 resultados obtidos - Página 1</p>\n",
              "<div class=\"ad-card\">\n",
              "<img class=\"apto-img\" src=\"imagens/apto-01.jpg\"/>\n",
              "<div class=\"ad-card-info\">\n",
              "<h2>Lindo apartamento para alugar</h2>\n",
              "<ul class=\"features\">\n",
              "<li><img src=\"imagens/area.png\"/> 100 m²</li>\n",
              "<li><img src=\"imagens/bedrooms.png\"/> 3 quarto(s)</li>\n",
              "<li><img src=\"imagens/toilet.png\"/> 2 banheiro(s)</li>\n",
              "<li><img src=\"imagens/parking.png\"/> 2 vaga(s)</li>\n",
              "</ul>\n",
              "<ul class=\"resources\">\n",
              "<li>Mobiliado</li>\n",
              "<li>Portaria 24h</li>\n",
              "<li>Elevador</li>\n",
              "<li>Piscina</li>\n",
              "<li>Churrasqueira</li>\n",
              "<li>Salão de Festas</li>\n",
              "<li>Academia</li>\n",
              "<li>Playground</li>\n",
              "<li>Quadra poliesportiva</li>\n",
              "<li>Salão de jogos</li>\n",
              "<li>Aceita animais</li>\n",
              "</ul>\n",
              "<p>Localização: Oceano Pacífico</p>\n",
              "</div>\n",
              "<div class=\"ad-card-price\">\n",
              "<p>Aluguel: R$ 4.000,00</p>\n",
              "<p>Condomínio: 500,00</p>\n",
              "<p>IPTU: R$ 100,00</p>\n",
              "<p>Corretora: Tubarão</p>\n",
              "</div>\n",
              "</div>\n",
              "<div class=\"ad-card\">\n",
              "<img class=\"apto-img\" src=\"imagens/apto-02.jpg\"/>\n",
              "<div class=\"ad-card-info\">\n",
              "<h2>Ótimo lugar para morar</h2>\n",
              "<ul class=\"features\">\n",
              "<li><img src=\"imagens/area.png\"/> 60 m²</li>\n",
              "<li><img src=\"imagens/bedrooms.png\"/> 2 quarto(s)</li>\n",
              "<li><img src=\"imagens/toilet.png\"/> 2 banheiro(s)</li>\n",
              "<li><img src=\"imagens/parking.png\"/> 1 vaga(s)</li>\n",
              "</ul>\n",
              "<ul class=\"resources\">\n",
              "<li>Mobiliado</li>\n",
              "<li>Portaria 24h</li>\n",
              "<li>Salão de Festas</li>\n",
              "<li>Quadra poliesportiva</li>\n",
              "</ul>\n",
              "<p>Localização: Oceano Índico</p>\n",
              "</div>\n",
              "<div class=\"ad-card-price\">\n",
              "<p>Aluguel: R$ 2.000,00</p>\n",
              "<p>Condomínio: 200,00</p>\n",
              "<p>IPTU: R$ 50,00</p>\n",
              "<p>Corretora: Carangueijo</p>\n",
              "</div>\n",
              "</div>\n",
              "<div class=\"ad-card\">\n",
              "<img class=\"apto-img\" src=\"imagens/apto-03.jpg\"/>\n",
              "<div class=\"ad-card-info\">\n",
              "<h2>Belíssimo apartamento mobiliado</h2>\n",
              "<ul class=\"features\">\n",
              "<li><img src=\"imagens/area.png\"/> 50 m²</li>\n",
              "<li><img src=\"imagens/bedrooms.png\"/> 1 quarto(s)</li>\n",
              "<li><img src=\"imagens/toilet.png\"/> 1 banheiro(s)</li>\n",
              "<li><img src=\"imagens/parking.png\"/> 1 vaga(s)</li>\n",
              "</ul>\n",
              "<ul class=\"resources\">\n",
              "<li>Mobiliado</li>\n",
              "</ul>\n",
              "<p>Localização: Mar de Java</p>\n",
              "</div>\n",
              "<div class=\"ad-card-price\">\n",
              "<p>Aluguel: R$ 1.300,00</p>\n",
              "<p>Condomínio: 200,00</p>\n",
              "<p>IPTU: R$ 50,00</p>\n",
              "<p>Corretora: Baleia Azul</p>\n",
              "</div>\n",
              "</div>\n",
              "<div class=\"ad-card\">\n",
              "<img class=\"apto-img\" src=\"imagens/apto-04.jpg\"/>\n",
              "<div class=\"ad-card-info\">\n",
              "<h2>Um cantinho todo seu</h2>\n",
              "<ul class=\"features\">\n",
              "<li><img src=\"imagens/area.png\"/> 60 m²</li>\n",
              "<li><img src=\"imagens/bedrooms.png\"/> 2 quarto(s)</li>\n",
              "<li><img src=\"imagens/toilet.png\"/> 2 banheiro(s)</li>\n",
              "<li><img src=\"imagens/parking.png\"/> 1 vaga(s)</li>\n",
              "</ul>\n",
              "<ul class=\"resources\">\n",
              "<li>Mobiliado</li>\n",
              "<li>Portaria 24h</li>\n",
              "</ul>\n",
              "<p>Localização: Oceano Índico</p>\n",
              "</div>\n",
              "<div class=\"ad-card-price\">\n",
              "<p>Aluguel: R$ 1.800,00</p>\n",
              "<p>Condomínio: 100,00</p>\n",
              "<p>IPTU: R$ 20,00</p>\n",
              "<p>Corretora: Baleia Azul</p>\n",
              "</div>\n",
              "</div>\n",
              "<div class=\"ad-card\">\n",
              "<img class=\"apto-img\" src=\"imagens/apto-05.jpg\"/>\n",
              "<div class=\"ad-card-info\">\n",
              "<h2>Alugue já! Ótima oportunidade</h2>\n",
              "<ul class=\"features\">\n",
              "<li><img src=\"imagens/area.png\"/> 120 m²</li>\n",
              "<li><img src=\"imagens/bedrooms.png\"/> 4 quarto(s)</li>\n",
              "<li><img src=\"imagens/toilet.png\"/> 3 banheiro(s)</li>\n",
              "<li><img src=\"imagens/parking.png\"/> 2 vaga(s)</li>\n",
              "</ul>\n",
              "<ul class=\"resources\">\n",
              "<li>Mobiliado</li>\n",
              "<li>Portaria 24h</li>\n",
              "<li>Elevador</li>\n",
              "<li>Piscina</li>\n",
              "<li>Churrasqueira</li>\n",
              "<li>Salão de Festas</li>\n",
              "<li>Academia</li>\n",
              "<li>Playground</li>\n",
              "<li>Quadra poliesportiva</li>\n",
              "<li>Salão de jogos</li>\n",
              "<li>Aceita animais</li>\n",
              "</ul>\n",
              "<p>Localização: Oceano Pacífico</p>\n",
              "</div>\n",
              "<div class=\"ad-card-price\">\n",
              "<p>Aluguel: R$ 3.800,00</p>\n",
              "<p>Condomínio: 500,00</p>\n",
              "<p>IPTU: R$ 200,00</p>\n",
              "<p>Corretora: Tubarão</p>\n",
              "</div>\n",
              "</div>\n",
              "</div>\n",
              "<div class=\"pagination\">\n",
              "<a class=\"inactive\" href=\"#\">«</a>\n",
              "<a class=\"active\" href=\"#\">1</a>\n",
              "<a href=\"results&amp;page=2.html\">2</a>\n",
              "<a href=\"results&amp;page=3.html\">3</a>\n",
              "<a href=\"results&amp;page=2.html\">»</a>\n",
              "</div>\n",
              "</main>\n",
              "<footer>\n",
              "<img src=\"imagens/oceano-logo-cinza.png\"/>\n",
              "<p>Site criado para o curso de Web Scraping do Ocean</p>\n",
              "</footer>\n",
              "</body>\n",
              "</html>"
            ]
          },
          "metadata": {
            "tags": []
          },
          "execution_count": 9
        }
      ]
    },
    {
      "cell_type": "markdown",
      "metadata": {
        "id": "UojK_9hPmqDj"
      },
      "source": [
        "### 1.3) Página de contatos das corretoras"
      ]
    },
    {
      "cell_type": "code",
      "metadata": {
        "trusted": true,
        "id": "m33GwmVrmqDk",
        "outputId": "44ba847a-7df8-47da-f55f-6d062f2fb84d"
      },
      "source": [
        "response_corretoras = urlopen(url_corretoras)\n",
        "html_corretoras = response_corretoras.read()\n",
        "html_corretoras"
      ],
      "execution_count": null,
      "outputs": [
        {
          "output_type": "execute_result",
          "data": {
            "text/plain": [
              "b'<!DOCTYPE html>\\n<html lang=\"pt-br\">\\n\\t<head>\\n\\t\\t<meta charset=\"UTF-8\">\\n\\t\\t<meta name=\"viewport\" content=\"width=device-width\">\\n\\n\\t\\t<title>Oceano de Alugu\\xc3\\xa9is</title>\\n\\t\\t\\n\\t\\t<link rel=\"stylesheet\" href=\"reset.css\">\\n\\t\\t<link rel=\"stylesheet\" href=\"style.css\">\\n\\t\\t<link href=\"https://fonts.googleapis.com/css?family=Montserrat&display=swap\" rel=\"stylesheet\">\\n\\t</head>\\n\\n\\t<body>\\n\\t\\t<header>\\n\\t\\t\\t<div>\\n\\t\\t\\t\\t<img src=\"imagens/oceano-logo.png\">\\n\\t\\t\\t\\t<h1>Oceano de Alugu\\xc3\\xa9is</h1>\\n\\t\\t\\t\\t<nav>\\n\\t\\t\\t\\t\\t<ul>\\n\\t\\t\\t\\t\\t\\t<li><a href=\"results&page=1.html\">Resultados</a></li>\\n\\t\\t\\t\\t\\t\\t<li><a href=\"corretoras.html\">Corretoras</a></li>\\n\\t\\t\\t\\t\\t\\t<li><a href=\"sobre.html\">Sobre</a></li>\\n\\t\\t\\t\\t\\t</ul>\\n\\t\\t\\t\\t</nav>\\n\\t\\t\\t</div>\\n\\t\\t</header>\\n\\n\\t\\t<main>\\n\\t\\t\\t<div class=\"contacts\">\\n\\t\\t\\t\\t<table>\\n\\t\\t\\t\\t\\t<thead>\\n\\t\\t\\t\\t\\t\\t<tr>\\n\\t\\t\\t\\t\\t\\t\\t<th>Corretora</th>\\n\\t\\t\\t\\t\\t\\t\\t<th>Contatos</th>\\n\\t\\t\\t\\t\\t\\t</tr>\\n\\t\\t\\t\\t\\t</thead>\\n\\n\\t\\t\\t\\t\\t<tbody>\\n\\t\\t\\t\\t\\t\\t<tr>\\n\\t\\t\\t\\t\\t\\t\\t<td>Tubar\\xc3\\xa3o</td>\\n\\t\\t\\t\\t\\t\\t\\t<td>Jo\\xc3\\xa3o Marinho - Fone:(XX)XXXX-XXXX</td>\\n\\t\\t\\t\\t\\t\\t</tr>\\n\\t\\t\\t\\t\\t\\t<tr>\\n\\t\\t\\t\\t\\t\\t\\t<td>Carangueijo</td>\\n\\t\\t\\t\\t\\t\\t\\t<td>Ana Sirigueijo - Fone:(XX)XXXX-XXXX; Sebasti\\xc3\\xa3o Costa - Fone:(XX)XXXX-XXXX</td>\\n\\t\\t\\t\\t\\t\\t</tr>\\n\\t\\t\\t\\t\\t\\t<tr>\\n\\t\\t\\t\\t\\t\\t\\t<td>Baleia Azul</td>\\n\\t\\t\\t\\t\\t\\t\\t<td>\\n\\t\\t\\t\\t\\t\\t\\t\\t<ul>\\n\\t\\t\\t\\t\\t\\t\\t\\t\\t<li>Alina Ferreira - Fone:(XX)XXXX-XXXX</li>\\n\\t\\t\\t\\t\\t\\t\\t\\t\\t<li>Jorge Matheus - Fone:(XX)XXXX-XXXX</li>\\n\\t\\t\\t\\t\\t\\t\\t\\t</ul>\\n\\t\\t\\t\\t\\t\\t\\t</td>\\n\\t\\t\\t\\t\\t\\t</tr>\\n\\t\\t\\t\\t\\t\\t<tr>\\n\\t\\t\\t\\t\\t\\t\\t<td>Enguia</td>\\n\\t\\t\\t\\t\\t\\t\\t<td><a href=\"pdfs/contatos-enguia.pdf\">Nossos contatos</a></td>\\n\\t\\t\\t\\t\\t\\t</tr>\\n\\t\\t\\t\\t\\t</tbody>\\n\\t\\t\\t\\t</table>\\n\\t\\t\\t</div>\\n\\t\\t</main>\\n\\n\\t\\t<footer>\\n\\t\\t\\t<img src=\"imagens/oceano-logo-cinza.png\">\\n\\t\\t\\t<p>Site criado para o curso de Web Scraping do Ocean</p>\\n\\t\\t</footer>\\n\\t</body>\\n</html>'"
            ]
          },
          "metadata": {
            "tags": []
          },
          "execution_count": 10
        }
      ]
    },
    {
      "cell_type": "code",
      "metadata": {
        "trusted": true,
        "id": "pU2JPRjLmqDk",
        "outputId": "fa42ef97-07bf-4dbe-ffa0-8a0319e80e6e"
      },
      "source": [
        "soup_corretoras = BeautifulSoup(html_corretoras, 'html.parser')\n",
        "soup_corretoras"
      ],
      "execution_count": null,
      "outputs": [
        {
          "output_type": "execute_result",
          "data": {
            "text/plain": [
              "<!DOCTYPE html>\n",
              "\n",
              "<html lang=\"pt-br\">\n",
              "<head>\n",
              "<meta charset=\"utf-8\"/>\n",
              "<meta content=\"width=device-width\" name=\"viewport\"/>\n",
              "<title>Oceano de Aluguéis</title>\n",
              "<link href=\"reset.css\" rel=\"stylesheet\"/>\n",
              "<link href=\"style.css\" rel=\"stylesheet\"/>\n",
              "<link href=\"https://fonts.googleapis.com/css?family=Montserrat&amp;display=swap\" rel=\"stylesheet\"/>\n",
              "</head>\n",
              "<body>\n",
              "<header>\n",
              "<div>\n",
              "<img src=\"imagens/oceano-logo.png\"/>\n",
              "<h1>Oceano de Aluguéis</h1>\n",
              "<nav>\n",
              "<ul>\n",
              "<li><a href=\"results&amp;page=1.html\">Resultados</a></li>\n",
              "<li><a href=\"corretoras.html\">Corretoras</a></li>\n",
              "<li><a href=\"sobre.html\">Sobre</a></li>\n",
              "</ul>\n",
              "</nav>\n",
              "</div>\n",
              "</header>\n",
              "<main>\n",
              "<div class=\"contacts\">\n",
              "<table>\n",
              "<thead>\n",
              "<tr>\n",
              "<th>Corretora</th>\n",
              "<th>Contatos</th>\n",
              "</tr>\n",
              "</thead>\n",
              "<tbody>\n",
              "<tr>\n",
              "<td>Tubarão</td>\n",
              "<td>João Marinho - Fone:(XX)XXXX-XXXX</td>\n",
              "</tr>\n",
              "<tr>\n",
              "<td>Carangueijo</td>\n",
              "<td>Ana Sirigueijo - Fone:(XX)XXXX-XXXX; Sebastião Costa - Fone:(XX)XXXX-XXXX</td>\n",
              "</tr>\n",
              "<tr>\n",
              "<td>Baleia Azul</td>\n",
              "<td>\n",
              "<ul>\n",
              "<li>Alina Ferreira - Fone:(XX)XXXX-XXXX</li>\n",
              "<li>Jorge Matheus - Fone:(XX)XXXX-XXXX</li>\n",
              "</ul>\n",
              "</td>\n",
              "</tr>\n",
              "<tr>\n",
              "<td>Enguia</td>\n",
              "<td><a href=\"pdfs/contatos-enguia.pdf\">Nossos contatos</a></td>\n",
              "</tr>\n",
              "</tbody>\n",
              "</table>\n",
              "</div>\n",
              "</main>\n",
              "<footer>\n",
              "<img src=\"imagens/oceano-logo-cinza.png\"/>\n",
              "<p>Site criado para o curso de Web Scraping do Ocean</p>\n",
              "</footer>\n",
              "</body>\n",
              "</html>"
            ]
          },
          "metadata": {
            "tags": []
          },
          "execution_count": 11
        }
      ]
    },
    {
      "cell_type": "markdown",
      "metadata": {
        "id": "7Eaoq2W-mqDl"
      },
      "source": [
        "## 2) Lista de desafios da página 'Sobre'"
      ]
    },
    {
      "cell_type": "code",
      "metadata": {
        "trusted": true,
        "id": "zF1_3Aw_mqDm",
        "outputId": "0eed1695-e6d5-4479-9cda-bc1046646c7a"
      },
      "source": [
        "soup_sobre.find('div', {'class': 'about'}).find('h2')"
      ],
      "execution_count": null,
      "outputs": [
        {
          "output_type": "execute_result",
          "data": {
            "text/plain": [
              "<h2>Sobre este site</h2>"
            ]
          },
          "metadata": {
            "tags": []
          },
          "execution_count": 12
        }
      ]
    },
    {
      "cell_type": "markdown",
      "metadata": {
        "id": "6UnD2YOzmqDo"
      },
      "source": [
        "### 2.1) Desafio 1: que tal coletar o texto 'Sobre este site' para começar?"
      ]
    },
    {
      "cell_type": "code",
      "metadata": {
        "trusted": true,
        "id": "dP8X470ZmqDo",
        "outputId": "aea30cdb-beed-4c1b-af5f-2d3b2f112caf"
      },
      "source": [
        "soup_sobre.find('div', {'class': 'about'}).find('h2').get_text()"
      ],
      "execution_count": null,
      "outputs": [
        {
          "output_type": "execute_result",
          "data": {
            "text/plain": [
              "'Sobre este site'"
            ]
          },
          "metadata": {
            "tags": []
          },
          "execution_count": 11
        }
      ]
    },
    {
      "cell_type": "code",
      "metadata": {
        "trusted": true,
        "id": "Hz9XMf_hmqDp",
        "outputId": "a5c0ed60-5477-462c-e544-70e06bdc101c"
      },
      "source": [
        "soup_sobre.find('div', {'class' : 'about'}).find('a')"
      ],
      "execution_count": null,
      "outputs": [
        {
          "output_type": "execute_result",
          "data": {
            "text/plain": [
              "<a href=\"http://www.oceanbrasil.com/\">Ocean</a>"
            ]
          },
          "metadata": {
            "tags": []
          },
          "execution_count": 18
        }
      ]
    },
    {
      "cell_type": "markdown",
      "metadata": {
        "id": "qhTCEzCwmqDq"
      },
      "source": [
        "### 2.2) Desafio 2: agora extraia o link contido na palavra 'Ocean'."
      ]
    },
    {
      "cell_type": "code",
      "metadata": {
        "trusted": true,
        "id": "usa7RojLmqDr",
        "outputId": "9fd504b2-d690-46c2-9cbb-7445c3c998b9"
      },
      "source": [
        "soup_sobre.find('div', {'class': 'about'}).find('a').get('href')"
      ],
      "execution_count": null,
      "outputs": [
        {
          "output_type": "execute_result",
          "data": {
            "text/plain": [
              "'http://www.oceanbrasil.com/'"
            ]
          },
          "metadata": {
            "tags": []
          },
          "execution_count": 15
        }
      ]
    },
    {
      "cell_type": "markdown",
      "metadata": {
        "id": "MmxB2z21mqDr"
      },
      "source": [
        "### 2.3) Desafio 3: Em seguida, colete todos os itens desta lista."
      ]
    },
    {
      "cell_type": "code",
      "metadata": {
        "trusted": true,
        "id": "oVtarVQ4mqDs",
        "outputId": "4c22cf21-fe1c-4ba2-9c67-d1892428465a"
      },
      "source": [
        "soup_sobre.find('div', {'class': 'about'}).find('ol').find_all('li')"
      ],
      "execution_count": null,
      "outputs": [
        {
          "output_type": "execute_result",
          "data": {
            "text/plain": [
              "[<li>Que tal coletar o texto <em>\"Sobre este site\"</em> para começar?</li>,\n",
              " <li>Agora extraia o link contido na palavra <em>\"Ocean\"</em>.</li>,\n",
              " <li>Em seguida, colete todos os itens desta lista.</li>,\n",
              " <li>Por fim, colete apenas este último item da lista.</li>]"
            ]
          },
          "metadata": {
            "tags": []
          },
          "execution_count": 19
        }
      ]
    },
    {
      "cell_type": "code",
      "metadata": {
        "trusted": true,
        "id": "Wz8fLENwmqDt",
        "outputId": "1ce610f1-d2d8-4c00-f8eb-aab8eb0c9fb3"
      },
      "source": [
        "for item in soup_sobre.find('div', {'class': 'about'}).find('ol').find_all('li'):\n",
        "    print(item.get_text())"
      ],
      "execution_count": null,
      "outputs": [
        {
          "output_type": "stream",
          "text": [
            "Que tal coletar o texto \"Sobre este site\" para começar?\n",
            "Agora extraia o link contido na palavra \"Ocean\".\n",
            "Em seguida, colete todos os itens desta lista.\n",
            "Por fim, colete apenas este último item da lista.\n"
          ],
          "name": "stdout"
        }
      ]
    },
    {
      "cell_type": "markdown",
      "metadata": {
        "id": "4sjgMwYYmqDt"
      },
      "source": [
        "### 2.4) Desafio 4: por fim, colete apenas este último item da lista."
      ]
    },
    {
      "cell_type": "code",
      "metadata": {
        "trusted": true,
        "id": "gXtL41fimqDu",
        "outputId": "fcf31e70-1a10-4608-ed43-d684760f34ce"
      },
      "source": [
        "soup_sobre.find('div', {'class': 'about'}).find('ol').find_all('li')[-1].get_text()"
      ],
      "execution_count": null,
      "outputs": [
        {
          "output_type": "execute_result",
          "data": {
            "text/plain": [
              "'Por fim, colete apenas este último item da lista.'"
            ]
          },
          "metadata": {
            "tags": []
          },
          "execution_count": 21
        }
      ]
    },
    {
      "cell_type": "markdown",
      "metadata": {
        "id": "sBpUhqTamqDu"
      },
      "source": [
        "## 3) Coletando a lista de resultados da busca por imóveis"
      ]
    },
    {
      "cell_type": "code",
      "metadata": {
        "trusted": true,
        "id": "WbtQDEwdmqDv"
      },
      "source": [
        "import pandas as pd"
      ],
      "execution_count": null,
      "outputs": []
    },
    {
      "cell_type": "markdown",
      "metadata": {
        "id": "HuTEWJpbmqDv"
      },
      "source": [
        "### 3.1) Coletando apenas o primeiro item da lista"
      ]
    },
    {
      "cell_type": "code",
      "metadata": {
        "trusted": true,
        "id": "676VzdFMmqDw",
        "outputId": "930ce77c-47ab-4e99-c9a9-0564d62eb848"
      },
      "source": [
        "soup_busca.find('div', {'class': 'ad-card'})"
      ],
      "execution_count": null,
      "outputs": [
        {
          "output_type": "execute_result",
          "data": {
            "text/plain": [
              "<div class=\"ad-card\">\n",
              "<img class=\"apto-img\" src=\"imagens/apto-01.jpg\"/>\n",
              "<div class=\"ad-card-info\">\n",
              "<h2>Lindo apartamento para alugar</h2>\n",
              "<ul class=\"features\">\n",
              "<li><img src=\"imagens/area.png\"/> 100 m²</li>\n",
              "<li><img src=\"imagens/bedrooms.png\"/> 3 quarto(s)</li>\n",
              "<li><img src=\"imagens/toilet.png\"/> 2 banheiro(s)</li>\n",
              "<li><img src=\"imagens/parking.png\"/> 2 vaga(s)</li>\n",
              "</ul>\n",
              "<ul class=\"resources\">\n",
              "<li>Mobiliado</li>\n",
              "<li>Portaria 24h</li>\n",
              "<li>Elevador</li>\n",
              "<li>Piscina</li>\n",
              "<li>Churrasqueira</li>\n",
              "<li>Salão de Festas</li>\n",
              "<li>Academia</li>\n",
              "<li>Playground</li>\n",
              "<li>Quadra poliesportiva</li>\n",
              "<li>Salão de jogos</li>\n",
              "<li>Aceita animais</li>\n",
              "</ul>\n",
              "<p>Localização: Oceano Pacífico</p>\n",
              "</div>\n",
              "<div class=\"ad-card-price\">\n",
              "<p>Aluguel: R$ 4.000,00</p>\n",
              "<p>Condomínio: 500,00</p>\n",
              "<p>IPTU: R$ 100,00</p>\n",
              "<p>Corretora: Tubarão</p>\n",
              "</div>\n",
              "</div>"
            ]
          },
          "metadata": {
            "tags": []
          },
          "execution_count": 14
        }
      ]
    },
    {
      "cell_type": "markdown",
      "metadata": {
        "id": "qRszUF4emqDw"
      },
      "source": [
        "#### 3.1.1) Coletando as características"
      ]
    },
    {
      "cell_type": "code",
      "metadata": {
        "trusted": true,
        "id": "d9CgTN5AmqDx",
        "outputId": "33ac3a2f-6d34-43b4-b616-3c319b545a25"
      },
      "source": [
        "soup_busca.find('ul', {'class': 'features'})"
      ],
      "execution_count": null,
      "outputs": [
        {
          "output_type": "execute_result",
          "data": {
            "text/plain": [
              "<ul class=\"features\">\n",
              "<li><img src=\"imagens/area.png\"/> 100 m²</li>\n",
              "<li><img src=\"imagens/bedrooms.png\"/> 3 quarto(s)</li>\n",
              "<li><img src=\"imagens/toilet.png\"/> 2 banheiro(s)</li>\n",
              "<li><img src=\"imagens/parking.png\"/> 2 vaga(s)</li>\n",
              "</ul>"
            ]
          },
          "metadata": {
            "tags": []
          },
          "execution_count": 15
        }
      ]
    },
    {
      "cell_type": "code",
      "metadata": {
        "trusted": true,
        "id": "5lpUs24DmqDx",
        "outputId": "103158a0-e302-4cb7-ea6c-bdf5ade3d08c"
      },
      "source": [
        "soup_busca.find('ul', {'class': 'features'}).find_all('li')"
      ],
      "execution_count": null,
      "outputs": [
        {
          "output_type": "execute_result",
          "data": {
            "text/plain": [
              "[<li><img src=\"imagens/area.png\"/> 100 m²</li>,\n",
              " <li><img src=\"imagens/bedrooms.png\"/> 3 quarto(s)</li>,\n",
              " <li><img src=\"imagens/toilet.png\"/> 2 banheiro(s)</li>,\n",
              " <li><img src=\"imagens/parking.png\"/> 2 vaga(s)</li>]"
            ]
          },
          "metadata": {
            "tags": []
          },
          "execution_count": 16
        }
      ]
    },
    {
      "cell_type": "code",
      "metadata": {
        "trusted": true,
        "id": "VcxsjwIsmqDy",
        "outputId": "2b7ace31-4bd1-4983-abc2-e4232dd87c61"
      },
      "source": [
        "for caracteristica in soup_busca.find('ul', {'class': 'features'}).find_all('li'):\n",
        "    print(caracteristica.get_text())"
      ],
      "execution_count": null,
      "outputs": [
        {
          "output_type": "stream",
          "text": [
            " 100 m²\n",
            " 3 quarto(s)\n",
            " 2 banheiro(s)\n",
            " 2 vaga(s)\n"
          ],
          "name": "stdout"
        }
      ]
    },
    {
      "cell_type": "markdown",
      "metadata": {
        "id": "MB4N4wpGmqDz"
      },
      "source": [
        "#### 3.1.2) Coletando os recursos"
      ]
    },
    {
      "cell_type": "code",
      "metadata": {
        "trusted": true,
        "id": "J1t8iMUWmqDz",
        "outputId": "354b4e66-3dba-47d1-e024-52090f8ca710"
      },
      "source": [
        "soup_busca.find('ul', {'class': 'resources'})"
      ],
      "execution_count": null,
      "outputs": [
        {
          "output_type": "execute_result",
          "data": {
            "text/plain": [
              "<ul class=\"resources\">\n",
              "<li>Mobiliado</li>\n",
              "<li>Portaria 24h</li>\n",
              "<li>Elevador</li>\n",
              "<li>Piscina</li>\n",
              "<li>Churrasqueira</li>\n",
              "<li>Salão de Festas</li>\n",
              "<li>Academia</li>\n",
              "<li>Playground</li>\n",
              "<li>Quadra poliesportiva</li>\n",
              "<li>Salão de jogos</li>\n",
              "<li>Aceita animais</li>\n",
              "</ul>"
            ]
          },
          "metadata": {
            "tags": []
          },
          "execution_count": 18
        }
      ]
    },
    {
      "cell_type": "code",
      "metadata": {
        "trusted": true,
        "id": "_Q3eMwqxmqD0",
        "outputId": "70f12014-919f-4116-e45f-ae8777bc99d4"
      },
      "source": [
        "soup_busca.find('ul', {'class': 'resources'}).find_all('li')"
      ],
      "execution_count": null,
      "outputs": [
        {
          "output_type": "execute_result",
          "data": {
            "text/plain": [
              "[<li>Mobiliado</li>,\n",
              " <li>Portaria 24h</li>,\n",
              " <li>Elevador</li>,\n",
              " <li>Piscina</li>,\n",
              " <li>Churrasqueira</li>,\n",
              " <li>Salão de Festas</li>,\n",
              " <li>Academia</li>,\n",
              " <li>Playground</li>,\n",
              " <li>Quadra poliesportiva</li>,\n",
              " <li>Salão de jogos</li>,\n",
              " <li>Aceita animais</li>]"
            ]
          },
          "metadata": {
            "tags": []
          },
          "execution_count": 19
        }
      ]
    },
    {
      "cell_type": "code",
      "metadata": {
        "trusted": true,
        "id": "FO1XCDB6mqD0",
        "outputId": "18223fee-f93e-4303-dfc2-6ee883ef9811"
      },
      "source": [
        "for recurso in soup_busca.find('ul', {'class': 'resources'}).find_all('li'):\n",
        "    print(recurso.get_text())"
      ],
      "execution_count": null,
      "outputs": [
        {
          "output_type": "stream",
          "text": [
            "Mobiliado\n",
            "Portaria 24h\n",
            "Elevador\n",
            "Piscina\n",
            "Churrasqueira\n",
            "Salão de Festas\n",
            "Academia\n",
            "Playground\n",
            "Quadra poliesportiva\n",
            "Salão de jogos\n",
            "Aceita animais\n"
          ],
          "name": "stdout"
        }
      ]
    },
    {
      "cell_type": "markdown",
      "metadata": {
        "id": "kCPuwzXFmqD1"
      },
      "source": [
        "#### 3.1.3) Coletando todos os valores (aluguel, condomínio e IPTU)"
      ]
    },
    {
      "cell_type": "code",
      "metadata": {
        "trusted": true,
        "id": "IOqA_XLhmqD2",
        "outputId": "f7079301-5ba1-43be-a8f6-a93a6eb41493"
      },
      "source": [
        "soup_busca.find('div', {'class': 'ad-card-price'})"
      ],
      "execution_count": null,
      "outputs": [
        {
          "output_type": "execute_result",
          "data": {
            "text/plain": [
              "<div class=\"ad-card-price\">\n",
              "<p>Aluguel: R$ 4.000,00</p>\n",
              "<p>Condomínio: 500,00</p>\n",
              "<p>IPTU: R$ 100,00</p>\n",
              "<p>Corretora: Tubarão</p>\n",
              "</div>"
            ]
          },
          "metadata": {
            "tags": []
          },
          "execution_count": 21
        }
      ]
    },
    {
      "cell_type": "code",
      "metadata": {
        "trusted": true,
        "id": "xi8QBtHymqD3",
        "outputId": "9242dd0a-92f1-435a-eb18-bf168fa0da12"
      },
      "source": [
        "soup_busca.find('div', {'class': 'ad-card-price'}).find_all('p')"
      ],
      "execution_count": null,
      "outputs": [
        {
          "output_type": "execute_result",
          "data": {
            "text/plain": [
              "[<p>Aluguel: R$ 4.000,00</p>,\n",
              " <p>Condomínio: 500,00</p>,\n",
              " <p>IPTU: R$ 100,00</p>,\n",
              " <p>Corretora: Tubarão</p>]"
            ]
          },
          "metadata": {
            "tags": []
          },
          "execution_count": 22
        }
      ]
    },
    {
      "cell_type": "code",
      "metadata": {
        "trusted": true,
        "id": "PV-aMTegmqD4",
        "outputId": "ca55df47-f7f7-4fc1-bd4a-46457b94dae7"
      },
      "source": [
        "soup_busca.find('div', {'class': 'ad-card-price'}).find_all('p')[:-1]"
      ],
      "execution_count": null,
      "outputs": [
        {
          "output_type": "execute_result",
          "data": {
            "text/plain": [
              "[<p>Aluguel: R$ 4.000,00</p>,\n",
              " <p>Condomínio: 500,00</p>,\n",
              " <p>IPTU: R$ 100,00</p>]"
            ]
          },
          "metadata": {
            "tags": []
          },
          "execution_count": 23
        }
      ]
    },
    {
      "cell_type": "code",
      "metadata": {
        "trusted": true,
        "id": "m1ECfkyimqD4",
        "outputId": "f52538cf-d565-434e-e696-b99b8cf196c6"
      },
      "source": [
        "for precos in soup_busca.find('div', {'class': 'ad-card-price'}).find_all('p')[:-1]:\n",
        "    print(precos.get_text())"
      ],
      "execution_count": null,
      "outputs": [
        {
          "output_type": "stream",
          "text": [
            "Aluguel: R$ 4.000,00\n",
            "Condomínio: 500,00\n",
            "IPTU: R$ 100,00\n"
          ],
          "name": "stdout"
        }
      ]
    },
    {
      "cell_type": "markdown",
      "metadata": {
        "id": "h1-aXBiKmqD5"
      },
      "source": [
        "#### 3.1.4) Coletando a corretora"
      ]
    },
    {
      "cell_type": "code",
      "metadata": {
        "trusted": true,
        "id": "pAdLJZ-WmqD5",
        "outputId": "8aefcaf5-7799-4d36-daa9-8a709423c194"
      },
      "source": [
        "soup_busca.find('div', {'class': 'ad-card-price'})"
      ],
      "execution_count": null,
      "outputs": [
        {
          "output_type": "execute_result",
          "data": {
            "text/plain": [
              "<div class=\"ad-card-price\">\n",
              "<p>Aluguel: R$ 4.000,00</p>\n",
              "<p>Condomínio: 500,00</p>\n",
              "<p>IPTU: R$ 100,00</p>\n",
              "<p>Corretora: Tubarão</p>\n",
              "</div>"
            ]
          },
          "metadata": {
            "tags": []
          },
          "execution_count": 25
        }
      ]
    },
    {
      "cell_type": "code",
      "metadata": {
        "trusted": true,
        "id": "_3IKO8i8mqD6",
        "outputId": "86d0c361-12ea-4864-bc0b-b7a6b44e1039"
      },
      "source": [
        "soup_busca.find('div', {'class': 'ad-card-price'}).find_all('p')"
      ],
      "execution_count": null,
      "outputs": [
        {
          "output_type": "execute_result",
          "data": {
            "text/plain": [
              "[<p>Aluguel: R$ 4.000,00</p>,\n",
              " <p>Condomínio: 500,00</p>,\n",
              " <p>IPTU: R$ 100,00</p>,\n",
              " <p>Corretora: Tubarão</p>]"
            ]
          },
          "metadata": {
            "tags": []
          },
          "execution_count": 26
        }
      ]
    },
    {
      "cell_type": "code",
      "metadata": {
        "trusted": true,
        "id": "eKuJ4E0GmqD7",
        "outputId": "15bcd016-144a-4402-d291-009c44baaf16"
      },
      "source": [
        "soup_busca.find('div', {'class': 'ad-card-price'}).find_all('p')[-1]"
      ],
      "execution_count": null,
      "outputs": [
        {
          "output_type": "execute_result",
          "data": {
            "text/plain": [
              "<p>Corretora: Tubarão</p>"
            ]
          },
          "metadata": {
            "tags": []
          },
          "execution_count": 27
        }
      ]
    },
    {
      "cell_type": "code",
      "metadata": {
        "trusted": true,
        "id": "RmfnEHdfmqD8",
        "outputId": "6bf42cd5-130a-4c81-ee68-7d8c12e6720f"
      },
      "source": [
        "soup_busca.find('div', {'class': 'ad-card-price'}).find_all('p')[-1].get_text()"
      ],
      "execution_count": null,
      "outputs": [
        {
          "output_type": "execute_result",
          "data": {
            "text/plain": [
              "'Corretora: Tubarão'"
            ]
          },
          "metadata": {
            "tags": []
          },
          "execution_count": 28
        }
      ]
    },
    {
      "cell_type": "markdown",
      "metadata": {
        "id": "2hsLu356mqD8"
      },
      "source": [
        "#### 3.1.5) Coletando a localização"
      ]
    },
    {
      "cell_type": "code",
      "metadata": {
        "trusted": true,
        "id": "3tP_8qohmqD9",
        "outputId": "7c769b54-e96d-481a-9340-d0974b0500fd"
      },
      "source": [
        "soup_busca.find('div', {'class': 'ad-card-info'})"
      ],
      "execution_count": null,
      "outputs": [
        {
          "output_type": "execute_result",
          "data": {
            "text/plain": [
              "<div class=\"ad-card-info\">\n",
              "<h2>Lindo apartamento para alugar</h2>\n",
              "<ul class=\"features\">\n",
              "<li><img src=\"imagens/area.png\"/> 100 m²</li>\n",
              "<li><img src=\"imagens/bedrooms.png\"/> 3 quarto(s)</li>\n",
              "<li><img src=\"imagens/toilet.png\"/> 2 banheiro(s)</li>\n",
              "<li><img src=\"imagens/parking.png\"/> 2 vaga(s)</li>\n",
              "</ul>\n",
              "<ul class=\"resources\">\n",
              "<li>Mobiliado</li>\n",
              "<li>Portaria 24h</li>\n",
              "<li>Elevador</li>\n",
              "<li>Piscina</li>\n",
              "<li>Churrasqueira</li>\n",
              "<li>Salão de Festas</li>\n",
              "<li>Academia</li>\n",
              "<li>Playground</li>\n",
              "<li>Quadra poliesportiva</li>\n",
              "<li>Salão de jogos</li>\n",
              "<li>Aceita animais</li>\n",
              "</ul>\n",
              "<p>Localização: Oceano Pacífico</p>\n",
              "</div>"
            ]
          },
          "metadata": {
            "tags": []
          },
          "execution_count": 29
        }
      ]
    },
    {
      "cell_type": "code",
      "metadata": {
        "trusted": true,
        "id": "WyVa2goemqD9",
        "outputId": "593d96a4-afea-481c-bb15-249d5d2bc3ca"
      },
      "source": [
        "soup_busca.find('div', {'class': 'ad-card-info'}).find('p')"
      ],
      "execution_count": null,
      "outputs": [
        {
          "output_type": "execute_result",
          "data": {
            "text/plain": [
              "<p>Localização: Oceano Pacífico</p>"
            ]
          },
          "metadata": {
            "tags": []
          },
          "execution_count": 30
        }
      ]
    },
    {
      "cell_type": "code",
      "metadata": {
        "trusted": true,
        "id": "iD3GiK9TmqD-",
        "outputId": "4fa92054-5b74-465e-a142-b9474256b397"
      },
      "source": [
        "soup_busca.find('div', {'class': 'ad-card-info'}).find('p').get_text()"
      ],
      "execution_count": null,
      "outputs": [
        {
          "output_type": "execute_result",
          "data": {
            "text/plain": [
              "'Localização: Oceano Pacífico'"
            ]
          },
          "metadata": {
            "tags": []
          },
          "execution_count": 31
        }
      ]
    },
    {
      "cell_type": "markdown",
      "metadata": {
        "id": "gvUYL8rYmqD-"
      },
      "source": [
        "### 3.2) Coletando todos os itens da primeira página"
      ]
    },
    {
      "cell_type": "code",
      "metadata": {
        "trusted": true,
        "id": "U8Z7nS-hmqD_",
        "outputId": "3231a325-a0a9-4998-ed54-5d33617efe71"
      },
      "source": [
        "soup_busca.find('div', {'class': 'ad-card-list'})"
      ],
      "execution_count": null,
      "outputs": [
        {
          "output_type": "execute_result",
          "data": {
            "text/plain": [
              "<div class=\"ad-card-list\">\n",
              "<p>21 resultados obtidos - Página 1</p>\n",
              "<div class=\"ad-card\">\n",
              "<img class=\"apto-img\" src=\"imagens/apto-01.jpg\"/>\n",
              "<div class=\"ad-card-info\">\n",
              "<h2>Lindo apartamento para alugar</h2>\n",
              "<ul class=\"features\">\n",
              "<li><img src=\"imagens/area.png\"/> 100 m²</li>\n",
              "<li><img src=\"imagens/bedrooms.png\"/> 3 quarto(s)</li>\n",
              "<li><img src=\"imagens/toilet.png\"/> 2 banheiro(s)</li>\n",
              "<li><img src=\"imagens/parking.png\"/> 2 vaga(s)</li>\n",
              "</ul>\n",
              "<ul class=\"resources\">\n",
              "<li>Mobiliado</li>\n",
              "<li>Portaria 24h</li>\n",
              "<li>Elevador</li>\n",
              "<li>Piscina</li>\n",
              "<li>Churrasqueira</li>\n",
              "<li>Salão de Festas</li>\n",
              "<li>Academia</li>\n",
              "<li>Playground</li>\n",
              "<li>Quadra poliesportiva</li>\n",
              "<li>Salão de jogos</li>\n",
              "<li>Aceita animais</li>\n",
              "</ul>\n",
              "<p>Localização: Oceano Pacífico</p>\n",
              "</div>\n",
              "<div class=\"ad-card-price\">\n",
              "<p>Aluguel: R$ 4.000,00</p>\n",
              "<p>Condomínio: 500,00</p>\n",
              "<p>IPTU: R$ 100,00</p>\n",
              "<p>Corretora: Tubarão</p>\n",
              "</div>\n",
              "</div>\n",
              "<div class=\"ad-card\">\n",
              "<img class=\"apto-img\" src=\"imagens/apto-02.jpg\"/>\n",
              "<div class=\"ad-card-info\">\n",
              "<h2>Ótimo lugar para morar</h2>\n",
              "<ul class=\"features\">\n",
              "<li><img src=\"imagens/area.png\"/> 60 m²</li>\n",
              "<li><img src=\"imagens/bedrooms.png\"/> 2 quarto(s)</li>\n",
              "<li><img src=\"imagens/toilet.png\"/> 2 banheiro(s)</li>\n",
              "<li><img src=\"imagens/parking.png\"/> 1 vaga(s)</li>\n",
              "</ul>\n",
              "<ul class=\"resources\">\n",
              "<li>Mobiliado</li>\n",
              "<li>Portaria 24h</li>\n",
              "<li>Salão de Festas</li>\n",
              "<li>Quadra poliesportiva</li>\n",
              "</ul>\n",
              "<p>Localização: Oceano Índico</p>\n",
              "</div>\n",
              "<div class=\"ad-card-price\">\n",
              "<p>Aluguel: R$ 2.000,00</p>\n",
              "<p>Condomínio: 200,00</p>\n",
              "<p>IPTU: R$ 50,00</p>\n",
              "<p>Corretora: Carangueijo</p>\n",
              "</div>\n",
              "</div>\n",
              "<div class=\"ad-card\">\n",
              "<img class=\"apto-img\" src=\"imagens/apto-03.jpg\"/>\n",
              "<div class=\"ad-card-info\">\n",
              "<h2>Belíssimo apartamento mobiliado</h2>\n",
              "<ul class=\"features\">\n",
              "<li><img src=\"imagens/area.png\"/> 50 m²</li>\n",
              "<li><img src=\"imagens/bedrooms.png\"/> 1 quarto(s)</li>\n",
              "<li><img src=\"imagens/toilet.png\"/> 1 banheiro(s)</li>\n",
              "<li><img src=\"imagens/parking.png\"/> 1 vaga(s)</li>\n",
              "</ul>\n",
              "<ul class=\"resources\">\n",
              "<li>Mobiliado</li>\n",
              "</ul>\n",
              "<p>Localização: Mar de Java</p>\n",
              "</div>\n",
              "<div class=\"ad-card-price\">\n",
              "<p>Aluguel: R$ 1.300,00</p>\n",
              "<p>Condomínio: 200,00</p>\n",
              "<p>IPTU: R$ 50,00</p>\n",
              "<p>Corretora: Baleia Azul</p>\n",
              "</div>\n",
              "</div>\n",
              "<div class=\"ad-card\">\n",
              "<img class=\"apto-img\" src=\"imagens/apto-04.jpg\"/>\n",
              "<div class=\"ad-card-info\">\n",
              "<h2>Um cantinho todo seu</h2>\n",
              "<ul class=\"features\">\n",
              "<li><img src=\"imagens/area.png\"/> 60 m²</li>\n",
              "<li><img src=\"imagens/bedrooms.png\"/> 2 quarto(s)</li>\n",
              "<li><img src=\"imagens/toilet.png\"/> 2 banheiro(s)</li>\n",
              "<li><img src=\"imagens/parking.png\"/> 1 vaga(s)</li>\n",
              "</ul>\n",
              "<ul class=\"resources\">\n",
              "<li>Mobiliado</li>\n",
              "<li>Portaria 24h</li>\n",
              "</ul>\n",
              "<p>Localização: Oceano Índico</p>\n",
              "</div>\n",
              "<div class=\"ad-card-price\">\n",
              "<p>Aluguel: R$ 1.800,00</p>\n",
              "<p>Condomínio: 100,00</p>\n",
              "<p>IPTU: R$ 20,00</p>\n",
              "<p>Corretora: Baleia Azul</p>\n",
              "</div>\n",
              "</div>\n",
              "<div class=\"ad-card\">\n",
              "<img class=\"apto-img\" src=\"imagens/apto-05.jpg\"/>\n",
              "<div class=\"ad-card-info\">\n",
              "<h2>Alugue já! Ótima oportunidade</h2>\n",
              "<ul class=\"features\">\n",
              "<li><img src=\"imagens/area.png\"/> 120 m²</li>\n",
              "<li><img src=\"imagens/bedrooms.png\"/> 4 quarto(s)</li>\n",
              "<li><img src=\"imagens/toilet.png\"/> 3 banheiro(s)</li>\n",
              "<li><img src=\"imagens/parking.png\"/> 2 vaga(s)</li>\n",
              "</ul>\n",
              "<ul class=\"resources\">\n",
              "<li>Mobiliado</li>\n",
              "<li>Portaria 24h</li>\n",
              "<li>Elevador</li>\n",
              "<li>Piscina</li>\n",
              "<li>Churrasqueira</li>\n",
              "<li>Salão de Festas</li>\n",
              "<li>Academia</li>\n",
              "<li>Playground</li>\n",
              "<li>Quadra poliesportiva</li>\n",
              "<li>Salão de jogos</li>\n",
              "<li>Aceita animais</li>\n",
              "</ul>\n",
              "<p>Localização: Oceano Pacífico</p>\n",
              "</div>\n",
              "<div class=\"ad-card-price\">\n",
              "<p>Aluguel: R$ 3.800,00</p>\n",
              "<p>Condomínio: 500,00</p>\n",
              "<p>IPTU: R$ 200,00</p>\n",
              "<p>Corretora: Tubarão</p>\n",
              "</div>\n",
              "</div>\n",
              "</div>"
            ]
          },
          "metadata": {
            "tags": []
          },
          "execution_count": 32
        }
      ]
    },
    {
      "cell_type": "code",
      "metadata": {
        "trusted": true,
        "id": "3S0A1fnNmqD_",
        "outputId": "557791be-8c56-42e2-ca8a-f7a4f76b1618"
      },
      "source": [
        "soup_busca.find('div', {'class': 'ad-card-list'}).find_all('div', {'class': 'ad-card'})"
      ],
      "execution_count": null,
      "outputs": [
        {
          "output_type": "execute_result",
          "data": {
            "text/plain": [
              "[<div class=\"ad-card\">\n",
              " <img class=\"apto-img\" src=\"imagens/apto-01.jpg\"/>\n",
              " <div class=\"ad-card-info\">\n",
              " <h2>Lindo apartamento para alugar</h2>\n",
              " <ul class=\"features\">\n",
              " <li><img src=\"imagens/area.png\"/> 100 m²</li>\n",
              " <li><img src=\"imagens/bedrooms.png\"/> 3 quarto(s)</li>\n",
              " <li><img src=\"imagens/toilet.png\"/> 2 banheiro(s)</li>\n",
              " <li><img src=\"imagens/parking.png\"/> 2 vaga(s)</li>\n",
              " </ul>\n",
              " <ul class=\"resources\">\n",
              " <li>Mobiliado</li>\n",
              " <li>Portaria 24h</li>\n",
              " <li>Elevador</li>\n",
              " <li>Piscina</li>\n",
              " <li>Churrasqueira</li>\n",
              " <li>Salão de Festas</li>\n",
              " <li>Academia</li>\n",
              " <li>Playground</li>\n",
              " <li>Quadra poliesportiva</li>\n",
              " <li>Salão de jogos</li>\n",
              " <li>Aceita animais</li>\n",
              " </ul>\n",
              " <p>Localização: Oceano Pacífico</p>\n",
              " </div>\n",
              " <div class=\"ad-card-price\">\n",
              " <p>Aluguel: R$ 4.000,00</p>\n",
              " <p>Condomínio: 500,00</p>\n",
              " <p>IPTU: R$ 100,00</p>\n",
              " <p>Corretora: Tubarão</p>\n",
              " </div>\n",
              " </div>,\n",
              " <div class=\"ad-card\">\n",
              " <img class=\"apto-img\" src=\"imagens/apto-02.jpg\"/>\n",
              " <div class=\"ad-card-info\">\n",
              " <h2>Ótimo lugar para morar</h2>\n",
              " <ul class=\"features\">\n",
              " <li><img src=\"imagens/area.png\"/> 60 m²</li>\n",
              " <li><img src=\"imagens/bedrooms.png\"/> 2 quarto(s)</li>\n",
              " <li><img src=\"imagens/toilet.png\"/> 2 banheiro(s)</li>\n",
              " <li><img src=\"imagens/parking.png\"/> 1 vaga(s)</li>\n",
              " </ul>\n",
              " <ul class=\"resources\">\n",
              " <li>Mobiliado</li>\n",
              " <li>Portaria 24h</li>\n",
              " <li>Salão de Festas</li>\n",
              " <li>Quadra poliesportiva</li>\n",
              " </ul>\n",
              " <p>Localização: Oceano Índico</p>\n",
              " </div>\n",
              " <div class=\"ad-card-price\">\n",
              " <p>Aluguel: R$ 2.000,00</p>\n",
              " <p>Condomínio: 200,00</p>\n",
              " <p>IPTU: R$ 50,00</p>\n",
              " <p>Corretora: Carangueijo</p>\n",
              " </div>\n",
              " </div>,\n",
              " <div class=\"ad-card\">\n",
              " <img class=\"apto-img\" src=\"imagens/apto-03.jpg\"/>\n",
              " <div class=\"ad-card-info\">\n",
              " <h2>Belíssimo apartamento mobiliado</h2>\n",
              " <ul class=\"features\">\n",
              " <li><img src=\"imagens/area.png\"/> 50 m²</li>\n",
              " <li><img src=\"imagens/bedrooms.png\"/> 1 quarto(s)</li>\n",
              " <li><img src=\"imagens/toilet.png\"/> 1 banheiro(s)</li>\n",
              " <li><img src=\"imagens/parking.png\"/> 1 vaga(s)</li>\n",
              " </ul>\n",
              " <ul class=\"resources\">\n",
              " <li>Mobiliado</li>\n",
              " </ul>\n",
              " <p>Localização: Mar de Java</p>\n",
              " </div>\n",
              " <div class=\"ad-card-price\">\n",
              " <p>Aluguel: R$ 1.300,00</p>\n",
              " <p>Condomínio: 200,00</p>\n",
              " <p>IPTU: R$ 50,00</p>\n",
              " <p>Corretora: Baleia Azul</p>\n",
              " </div>\n",
              " </div>,\n",
              " <div class=\"ad-card\">\n",
              " <img class=\"apto-img\" src=\"imagens/apto-04.jpg\"/>\n",
              " <div class=\"ad-card-info\">\n",
              " <h2>Um cantinho todo seu</h2>\n",
              " <ul class=\"features\">\n",
              " <li><img src=\"imagens/area.png\"/> 60 m²</li>\n",
              " <li><img src=\"imagens/bedrooms.png\"/> 2 quarto(s)</li>\n",
              " <li><img src=\"imagens/toilet.png\"/> 2 banheiro(s)</li>\n",
              " <li><img src=\"imagens/parking.png\"/> 1 vaga(s)</li>\n",
              " </ul>\n",
              " <ul class=\"resources\">\n",
              " <li>Mobiliado</li>\n",
              " <li>Portaria 24h</li>\n",
              " </ul>\n",
              " <p>Localização: Oceano Índico</p>\n",
              " </div>\n",
              " <div class=\"ad-card-price\">\n",
              " <p>Aluguel: R$ 1.800,00</p>\n",
              " <p>Condomínio: 100,00</p>\n",
              " <p>IPTU: R$ 20,00</p>\n",
              " <p>Corretora: Baleia Azul</p>\n",
              " </div>\n",
              " </div>,\n",
              " <div class=\"ad-card\">\n",
              " <img class=\"apto-img\" src=\"imagens/apto-05.jpg\"/>\n",
              " <div class=\"ad-card-info\">\n",
              " <h2>Alugue já! Ótima oportunidade</h2>\n",
              " <ul class=\"features\">\n",
              " <li><img src=\"imagens/area.png\"/> 120 m²</li>\n",
              " <li><img src=\"imagens/bedrooms.png\"/> 4 quarto(s)</li>\n",
              " <li><img src=\"imagens/toilet.png\"/> 3 banheiro(s)</li>\n",
              " <li><img src=\"imagens/parking.png\"/> 2 vaga(s)</li>\n",
              " </ul>\n",
              " <ul class=\"resources\">\n",
              " <li>Mobiliado</li>\n",
              " <li>Portaria 24h</li>\n",
              " <li>Elevador</li>\n",
              " <li>Piscina</li>\n",
              " <li>Churrasqueira</li>\n",
              " <li>Salão de Festas</li>\n",
              " <li>Academia</li>\n",
              " <li>Playground</li>\n",
              " <li>Quadra poliesportiva</li>\n",
              " <li>Salão de jogos</li>\n",
              " <li>Aceita animais</li>\n",
              " </ul>\n",
              " <p>Localização: Oceano Pacífico</p>\n",
              " </div>\n",
              " <div class=\"ad-card-price\">\n",
              " <p>Aluguel: R$ 3.800,00</p>\n",
              " <p>Condomínio: 500,00</p>\n",
              " <p>IPTU: R$ 200,00</p>\n",
              " <p>Corretora: Tubarão</p>\n",
              " </div>\n",
              " </div>]"
            ]
          },
          "metadata": {
            "tags": []
          },
          "execution_count": 33
        }
      ]
    },
    {
      "cell_type": "code",
      "metadata": {
        "trusted": true,
        "id": "4jBymuIEmqEA",
        "outputId": "f2a5e828-5f84-414c-f8fd-292845ff487a"
      },
      "source": [
        "for resultado in soup_busca.find('div', {'class': 'ad-card-list'}).find_all('div', {'class': 'ad-card'}):\n",
        "    print(resultado)\n",
        "    print('-------------')"
      ],
      "execution_count": null,
      "outputs": [
        {
          "output_type": "stream",
          "text": [
            "<div class=\"ad-card\">\n",
            "<img class=\"apto-img\" src=\"imagens/apto-01.jpg\"/>\n",
            "<div class=\"ad-card-info\">\n",
            "<h2>Lindo apartamento para alugar</h2>\n",
            "<ul class=\"features\">\n",
            "<li><img src=\"imagens/area.png\"/> 100 m²</li>\n",
            "<li><img src=\"imagens/bedrooms.png\"/> 3 quarto(s)</li>\n",
            "<li><img src=\"imagens/toilet.png\"/> 2 banheiro(s)</li>\n",
            "<li><img src=\"imagens/parking.png\"/> 2 vaga(s)</li>\n",
            "</ul>\n",
            "<ul class=\"resources\">\n",
            "<li>Mobiliado</li>\n",
            "<li>Portaria 24h</li>\n",
            "<li>Elevador</li>\n",
            "<li>Piscina</li>\n",
            "<li>Churrasqueira</li>\n",
            "<li>Salão de Festas</li>\n",
            "<li>Academia</li>\n",
            "<li>Playground</li>\n",
            "<li>Quadra poliesportiva</li>\n",
            "<li>Salão de jogos</li>\n",
            "<li>Aceita animais</li>\n",
            "</ul>\n",
            "<p>Localização: Oceano Pacífico</p>\n",
            "</div>\n",
            "<div class=\"ad-card-price\">\n",
            "<p>Aluguel: R$ 4.000,00</p>\n",
            "<p>Condomínio: 500,00</p>\n",
            "<p>IPTU: R$ 100,00</p>\n",
            "<p>Corretora: Tubarão</p>\n",
            "</div>\n",
            "</div>\n",
            "-------------\n",
            "<div class=\"ad-card\">\n",
            "<img class=\"apto-img\" src=\"imagens/apto-02.jpg\"/>\n",
            "<div class=\"ad-card-info\">\n",
            "<h2>Ótimo lugar para morar</h2>\n",
            "<ul class=\"features\">\n",
            "<li><img src=\"imagens/area.png\"/> 60 m²</li>\n",
            "<li><img src=\"imagens/bedrooms.png\"/> 2 quarto(s)</li>\n",
            "<li><img src=\"imagens/toilet.png\"/> 2 banheiro(s)</li>\n",
            "<li><img src=\"imagens/parking.png\"/> 1 vaga(s)</li>\n",
            "</ul>\n",
            "<ul class=\"resources\">\n",
            "<li>Mobiliado</li>\n",
            "<li>Portaria 24h</li>\n",
            "<li>Salão de Festas</li>\n",
            "<li>Quadra poliesportiva</li>\n",
            "</ul>\n",
            "<p>Localização: Oceano Índico</p>\n",
            "</div>\n",
            "<div class=\"ad-card-price\">\n",
            "<p>Aluguel: R$ 2.000,00</p>\n",
            "<p>Condomínio: 200,00</p>\n",
            "<p>IPTU: R$ 50,00</p>\n",
            "<p>Corretora: Carangueijo</p>\n",
            "</div>\n",
            "</div>\n",
            "-------------\n",
            "<div class=\"ad-card\">\n",
            "<img class=\"apto-img\" src=\"imagens/apto-03.jpg\"/>\n",
            "<div class=\"ad-card-info\">\n",
            "<h2>Belíssimo apartamento mobiliado</h2>\n",
            "<ul class=\"features\">\n",
            "<li><img src=\"imagens/area.png\"/> 50 m²</li>\n",
            "<li><img src=\"imagens/bedrooms.png\"/> 1 quarto(s)</li>\n",
            "<li><img src=\"imagens/toilet.png\"/> 1 banheiro(s)</li>\n",
            "<li><img src=\"imagens/parking.png\"/> 1 vaga(s)</li>\n",
            "</ul>\n",
            "<ul class=\"resources\">\n",
            "<li>Mobiliado</li>\n",
            "</ul>\n",
            "<p>Localização: Mar de Java</p>\n",
            "</div>\n",
            "<div class=\"ad-card-price\">\n",
            "<p>Aluguel: R$ 1.300,00</p>\n",
            "<p>Condomínio: 200,00</p>\n",
            "<p>IPTU: R$ 50,00</p>\n",
            "<p>Corretora: Baleia Azul</p>\n",
            "</div>\n",
            "</div>\n",
            "-------------\n",
            "<div class=\"ad-card\">\n",
            "<img class=\"apto-img\" src=\"imagens/apto-04.jpg\"/>\n",
            "<div class=\"ad-card-info\">\n",
            "<h2>Um cantinho todo seu</h2>\n",
            "<ul class=\"features\">\n",
            "<li><img src=\"imagens/area.png\"/> 60 m²</li>\n",
            "<li><img src=\"imagens/bedrooms.png\"/> 2 quarto(s)</li>\n",
            "<li><img src=\"imagens/toilet.png\"/> 2 banheiro(s)</li>\n",
            "<li><img src=\"imagens/parking.png\"/> 1 vaga(s)</li>\n",
            "</ul>\n",
            "<ul class=\"resources\">\n",
            "<li>Mobiliado</li>\n",
            "<li>Portaria 24h</li>\n",
            "</ul>\n",
            "<p>Localização: Oceano Índico</p>\n",
            "</div>\n",
            "<div class=\"ad-card-price\">\n",
            "<p>Aluguel: R$ 1.800,00</p>\n",
            "<p>Condomínio: 100,00</p>\n",
            "<p>IPTU: R$ 20,00</p>\n",
            "<p>Corretora: Baleia Azul</p>\n",
            "</div>\n",
            "</div>\n",
            "-------------\n",
            "<div class=\"ad-card\">\n",
            "<img class=\"apto-img\" src=\"imagens/apto-05.jpg\"/>\n",
            "<div class=\"ad-card-info\">\n",
            "<h2>Alugue já! Ótima oportunidade</h2>\n",
            "<ul class=\"features\">\n",
            "<li><img src=\"imagens/area.png\"/> 120 m²</li>\n",
            "<li><img src=\"imagens/bedrooms.png\"/> 4 quarto(s)</li>\n",
            "<li><img src=\"imagens/toilet.png\"/> 3 banheiro(s)</li>\n",
            "<li><img src=\"imagens/parking.png\"/> 2 vaga(s)</li>\n",
            "</ul>\n",
            "<ul class=\"resources\">\n",
            "<li>Mobiliado</li>\n",
            "<li>Portaria 24h</li>\n",
            "<li>Elevador</li>\n",
            "<li>Piscina</li>\n",
            "<li>Churrasqueira</li>\n",
            "<li>Salão de Festas</li>\n",
            "<li>Academia</li>\n",
            "<li>Playground</li>\n",
            "<li>Quadra poliesportiva</li>\n",
            "<li>Salão de jogos</li>\n",
            "<li>Aceita animais</li>\n",
            "</ul>\n",
            "<p>Localização: Oceano Pacífico</p>\n",
            "</div>\n",
            "<div class=\"ad-card-price\">\n",
            "<p>Aluguel: R$ 3.800,00</p>\n",
            "<p>Condomínio: 500,00</p>\n",
            "<p>IPTU: R$ 200,00</p>\n",
            "<p>Corretora: Tubarão</p>\n",
            "</div>\n",
            "</div>\n",
            "-------------\n"
          ],
          "name": "stdout"
        }
      ]
    },
    {
      "cell_type": "code",
      "metadata": {
        "trusted": true,
        "id": "JfZcv04DmqEB",
        "outputId": "9e1c57bc-92bc-4db4-db94-60ab47b2b145"
      },
      "source": [
        "for resultado in soup_busca.find('div', {'class': 'ad-card-list'}).find_all('div', {'class': 'ad-card'}):\n",
        "    caracteristicas = resultado.find('ul', {'class': 'features'})\n",
        "    print(caracteristicas)\n",
        "    print('-------------')"
      ],
      "execution_count": null,
      "outputs": [
        {
          "output_type": "stream",
          "text": [
            "<ul class=\"features\">\n",
            "<li><img src=\"imagens/area.png\"/> 100 m²</li>\n",
            "<li><img src=\"imagens/bedrooms.png\"/> 3 quarto(s)</li>\n",
            "<li><img src=\"imagens/toilet.png\"/> 2 banheiro(s)</li>\n",
            "<li><img src=\"imagens/parking.png\"/> 2 vaga(s)</li>\n",
            "</ul>\n",
            "-------------\n",
            "<ul class=\"features\">\n",
            "<li><img src=\"imagens/area.png\"/> 60 m²</li>\n",
            "<li><img src=\"imagens/bedrooms.png\"/> 2 quarto(s)</li>\n",
            "<li><img src=\"imagens/toilet.png\"/> 2 banheiro(s)</li>\n",
            "<li><img src=\"imagens/parking.png\"/> 1 vaga(s)</li>\n",
            "</ul>\n",
            "-------------\n",
            "<ul class=\"features\">\n",
            "<li><img src=\"imagens/area.png\"/> 50 m²</li>\n",
            "<li><img src=\"imagens/bedrooms.png\"/> 1 quarto(s)</li>\n",
            "<li><img src=\"imagens/toilet.png\"/> 1 banheiro(s)</li>\n",
            "<li><img src=\"imagens/parking.png\"/> 1 vaga(s)</li>\n",
            "</ul>\n",
            "-------------\n",
            "<ul class=\"features\">\n",
            "<li><img src=\"imagens/area.png\"/> 60 m²</li>\n",
            "<li><img src=\"imagens/bedrooms.png\"/> 2 quarto(s)</li>\n",
            "<li><img src=\"imagens/toilet.png\"/> 2 banheiro(s)</li>\n",
            "<li><img src=\"imagens/parking.png\"/> 1 vaga(s)</li>\n",
            "</ul>\n",
            "-------------\n",
            "<ul class=\"features\">\n",
            "<li><img src=\"imagens/area.png\"/> 120 m²</li>\n",
            "<li><img src=\"imagens/bedrooms.png\"/> 4 quarto(s)</li>\n",
            "<li><img src=\"imagens/toilet.png\"/> 3 banheiro(s)</li>\n",
            "<li><img src=\"imagens/parking.png\"/> 2 vaga(s)</li>\n",
            "</ul>\n",
            "-------------\n"
          ],
          "name": "stdout"
        }
      ]
    },
    {
      "cell_type": "code",
      "metadata": {
        "trusted": true,
        "id": "xT7GQaKOmqEB",
        "outputId": "cb5a6740-f6ef-4828-b948-02ff15f8c2c4"
      },
      "source": [
        "for resultado in soup_busca.find('div', {'class': 'ad-card-list'}).find_all('div', {'class': 'ad-card'}):\n",
        "    caracteristicas = resultado.find('ul', {'class': 'features'})\n",
        "    \n",
        "    for caract in caracteristicas.find_all('li'):\n",
        "        print(caract.get_text())\n",
        "    \n",
        "    print('-------------')"
      ],
      "execution_count": null,
      "outputs": [
        {
          "output_type": "stream",
          "text": [
            " 100 m²\n",
            " 3 quarto(s)\n",
            " 2 banheiro(s)\n",
            " 2 vaga(s)\n",
            "-------------\n",
            " 60 m²\n",
            " 2 quarto(s)\n",
            " 2 banheiro(s)\n",
            " 1 vaga(s)\n",
            "-------------\n",
            " 50 m²\n",
            " 1 quarto(s)\n",
            " 1 banheiro(s)\n",
            " 1 vaga(s)\n",
            "-------------\n",
            " 60 m²\n",
            " 2 quarto(s)\n",
            " 2 banheiro(s)\n",
            " 1 vaga(s)\n",
            "-------------\n",
            " 120 m²\n",
            " 4 quarto(s)\n",
            " 3 banheiro(s)\n",
            " 2 vaga(s)\n",
            "-------------\n"
          ],
          "name": "stdout"
        }
      ]
    },
    {
      "cell_type": "code",
      "metadata": {
        "trusted": true,
        "id": "XpRK7cHnmqEC",
        "outputId": "d861dca4-44a4-4af6-96e1-47c79e681859"
      },
      "source": [
        "for resultado in soup_busca.find('div', {'class': 'ad-card-list'}).find_all('div', {'class': 'ad-card'}):\n",
        "    caracteristicas = resultado.find('ul', {'class': 'features'})\n",
        "    recursos = resultado.find('ul', {'class': 'resources'})\n",
        "    \n",
        "    for caract in caracteristicas.find_all('li'):\n",
        "        print(caract.get_text())\n",
        "        \n",
        "    for recur in recursos.find_all('li'):\n",
        "        print(recur.get_text())\n",
        "        \n",
        "    print('-------------')"
      ],
      "execution_count": null,
      "outputs": [
        {
          "output_type": "stream",
          "text": [
            " 100 m²\n",
            " 3 quarto(s)\n",
            " 2 banheiro(s)\n",
            " 2 vaga(s)\n",
            "Mobiliado\n",
            "Portaria 24h\n",
            "Elevador\n",
            "Piscina\n",
            "Churrasqueira\n",
            "Salão de Festas\n",
            "Academia\n",
            "Playground\n",
            "Quadra poliesportiva\n",
            "Salão de jogos\n",
            "Aceita animais\n",
            "-------------\n",
            " 60 m²\n",
            " 2 quarto(s)\n",
            " 2 banheiro(s)\n",
            " 1 vaga(s)\n",
            "Mobiliado\n",
            "Portaria 24h\n",
            "Salão de Festas\n",
            "Quadra poliesportiva\n",
            "-------------\n",
            " 50 m²\n",
            " 1 quarto(s)\n",
            " 1 banheiro(s)\n",
            " 1 vaga(s)\n",
            "Mobiliado\n",
            "-------------\n",
            " 60 m²\n",
            " 2 quarto(s)\n",
            " 2 banheiro(s)\n",
            " 1 vaga(s)\n",
            "Mobiliado\n",
            "Portaria 24h\n",
            "-------------\n",
            " 120 m²\n",
            " 4 quarto(s)\n",
            " 3 banheiro(s)\n",
            " 2 vaga(s)\n",
            "Mobiliado\n",
            "Portaria 24h\n",
            "Elevador\n",
            "Piscina\n",
            "Churrasqueira\n",
            "Salão de Festas\n",
            "Academia\n",
            "Playground\n",
            "Quadra poliesportiva\n",
            "Salão de jogos\n",
            "Aceita animais\n",
            "-------------\n"
          ],
          "name": "stdout"
        }
      ]
    },
    {
      "cell_type": "code",
      "metadata": {
        "trusted": true,
        "id": "BuGs5yItmqED",
        "outputId": "c6008a24-3499-41b1-e765-e92ebf2fc6d0"
      },
      "source": [
        "for resultado in soup_busca.find('div', {'class': 'ad-card-list'}).find_all('div', {'class': 'ad-card'}):\n",
        "    caracteristicas = resultado.find('ul', {'class': 'features'})\n",
        "    recursos = resultado.find('ul', {'class': 'resources'})\n",
        "    precos_corretora = resultado.find('div', {'class': 'ad-card-price'})\n",
        "    \n",
        "    for caract in caracteristicas.find_all('li'):\n",
        "        print(caract.get_text())\n",
        "        \n",
        "    for recur in recursos.find_all('li'):\n",
        "        print(recur.get_text())\n",
        "        \n",
        "    for prec_corr in precos_corretora.find_all('p'):\n",
        "        print(prec_corr.get_text())\n",
        "        \n",
        "    print('-------------')"
      ],
      "execution_count": null,
      "outputs": [
        {
          "output_type": "stream",
          "text": [
            " 100 m²\n",
            " 3 quarto(s)\n",
            " 2 banheiro(s)\n",
            " 2 vaga(s)\n",
            "Mobiliado\n",
            "Portaria 24h\n",
            "Elevador\n",
            "Piscina\n",
            "Churrasqueira\n",
            "Salão de Festas\n",
            "Academia\n",
            "Playground\n",
            "Quadra poliesportiva\n",
            "Salão de jogos\n",
            "Aceita animais\n",
            "Aluguel: R$ 4.000,00\n",
            "Condomínio: 500,00\n",
            "IPTU: R$ 100,00\n",
            "Corretora: Tubarão\n",
            "-------------\n",
            " 60 m²\n",
            " 2 quarto(s)\n",
            " 2 banheiro(s)\n",
            " 1 vaga(s)\n",
            "Mobiliado\n",
            "Portaria 24h\n",
            "Salão de Festas\n",
            "Quadra poliesportiva\n",
            "Aluguel: R$ 2.000,00\n",
            "Condomínio: 200,00\n",
            "IPTU: R$ 50,00\n",
            "Corretora: Carangueijo\n",
            "-------------\n",
            " 50 m²\n",
            " 1 quarto(s)\n",
            " 1 banheiro(s)\n",
            " 1 vaga(s)\n",
            "Mobiliado\n",
            "Aluguel: R$ 1.300,00\n",
            "Condomínio: 200,00\n",
            "IPTU: R$ 50,00\n",
            "Corretora: Baleia Azul\n",
            "-------------\n",
            " 60 m²\n",
            " 2 quarto(s)\n",
            " 2 banheiro(s)\n",
            " 1 vaga(s)\n",
            "Mobiliado\n",
            "Portaria 24h\n",
            "Aluguel: R$ 1.800,00\n",
            "Condomínio: 100,00\n",
            "IPTU: R$ 20,00\n",
            "Corretora: Baleia Azul\n",
            "-------------\n",
            " 120 m²\n",
            " 4 quarto(s)\n",
            " 3 banheiro(s)\n",
            " 2 vaga(s)\n",
            "Mobiliado\n",
            "Portaria 24h\n",
            "Elevador\n",
            "Piscina\n",
            "Churrasqueira\n",
            "Salão de Festas\n",
            "Academia\n",
            "Playground\n",
            "Quadra poliesportiva\n",
            "Salão de jogos\n",
            "Aceita animais\n",
            "Aluguel: R$ 3.800,00\n",
            "Condomínio: 500,00\n",
            "IPTU: R$ 200,00\n",
            "Corretora: Tubarão\n",
            "-------------\n"
          ],
          "name": "stdout"
        }
      ]
    },
    {
      "cell_type": "code",
      "metadata": {
        "trusted": true,
        "id": "BTf3Eu-kmqEE",
        "outputId": "1f1cde8b-e876-4990-d36c-598835abce42"
      },
      "source": [
        "for resultado in soup_busca.find('div', {'class': 'ad-card-list'}).find_all('div', {'class': 'ad-card'}):\n",
        "    caracteristicas = resultado.find('ul', {'class': 'features'})\n",
        "    recursos = resultado.find('ul', {'class': 'resources'})\n",
        "    precos_corretora = resultado.find('div', {'class': 'ad-card-price'})\n",
        "    localizacao = resultado.find('div', {'class': 'ad-card-info'}).find('p')\n",
        "    \n",
        "    for caract in caracteristicas.find_all('li'):\n",
        "        print(caract.get_text())\n",
        "        \n",
        "    for recur in recursos.find_all('li'):\n",
        "        print(recur.get_text())\n",
        "        \n",
        "    for prec_corr in precos_corretora.find_all('p'):\n",
        "        print(prec_corr.get_text())\n",
        "    \n",
        "    print(localizacao.get_text())\n",
        "        \n",
        "    print('-------------')"
      ],
      "execution_count": null,
      "outputs": [
        {
          "output_type": "stream",
          "text": [
            " 100 m²\n",
            " 3 quarto(s)\n",
            " 2 banheiro(s)\n",
            " 2 vaga(s)\n",
            "Mobiliado\n",
            "Portaria 24h\n",
            "Elevador\n",
            "Piscina\n",
            "Churrasqueira\n",
            "Salão de Festas\n",
            "Academia\n",
            "Playground\n",
            "Quadra poliesportiva\n",
            "Salão de jogos\n",
            "Aceita animais\n",
            "Aluguel: R$ 4.000,00\n",
            "Condomínio: 500,00\n",
            "IPTU: R$ 100,00\n",
            "Corretora: Tubarão\n",
            "Localização: Oceano Pacífico\n",
            "-------------\n",
            " 60 m²\n",
            " 2 quarto(s)\n",
            " 2 banheiro(s)\n",
            " 1 vaga(s)\n",
            "Mobiliado\n",
            "Portaria 24h\n",
            "Salão de Festas\n",
            "Quadra poliesportiva\n",
            "Aluguel: R$ 2.000,00\n",
            "Condomínio: 200,00\n",
            "IPTU: R$ 50,00\n",
            "Corretora: Carangueijo\n",
            "Localização: Oceano Índico\n",
            "-------------\n",
            " 50 m²\n",
            " 1 quarto(s)\n",
            " 1 banheiro(s)\n",
            " 1 vaga(s)\n",
            "Mobiliado\n",
            "Aluguel: R$ 1.300,00\n",
            "Condomínio: 200,00\n",
            "IPTU: R$ 50,00\n",
            "Corretora: Baleia Azul\n",
            "Localização: Mar de Java\n",
            "-------------\n",
            " 60 m²\n",
            " 2 quarto(s)\n",
            " 2 banheiro(s)\n",
            " 1 vaga(s)\n",
            "Mobiliado\n",
            "Portaria 24h\n",
            "Aluguel: R$ 1.800,00\n",
            "Condomínio: 100,00\n",
            "IPTU: R$ 20,00\n",
            "Corretora: Baleia Azul\n",
            "Localização: Oceano Índico\n",
            "-------------\n",
            " 120 m²\n",
            " 4 quarto(s)\n",
            " 3 banheiro(s)\n",
            " 2 vaga(s)\n",
            "Mobiliado\n",
            "Portaria 24h\n",
            "Elevador\n",
            "Piscina\n",
            "Churrasqueira\n",
            "Salão de Festas\n",
            "Academia\n",
            "Playground\n",
            "Quadra poliesportiva\n",
            "Salão de jogos\n",
            "Aceita animais\n",
            "Aluguel: R$ 3.800,00\n",
            "Condomínio: 500,00\n",
            "IPTU: R$ 200,00\n",
            "Corretora: Tubarão\n",
            "Localização: Oceano Pacífico\n",
            "-------------\n"
          ],
          "name": "stdout"
        }
      ]
    },
    {
      "cell_type": "markdown",
      "metadata": {
        "id": "b3I-73TimqEG"
      },
      "source": [
        "#### 3.2.1) Persistindo os dados coletados em um DataFrame (tentativa 1)"
      ]
    },
    {
      "cell_type": "code",
      "metadata": {
        "trusted": true,
        "id": "lRA5FEpfmqEG"
      },
      "source": [
        "resutados_lista = []"
      ],
      "execution_count": null,
      "outputs": []
    },
    {
      "cell_type": "code",
      "metadata": {
        "trusted": true,
        "id": "IJAxHRJdmqEH"
      },
      "source": [
        "for resultado in soup_busca.find('div', {'class': 'ad-card-list'}).find_all('div', {'class': 'ad-card'}):\n",
        "    caracteristicas = resultado.find('ul', {'class': 'features'})\n",
        "    recursos = resultado.find('ul', {'class': 'resources'})\n",
        "    precos_corretora = resultado.find('div', {'class': 'ad-card-price'})\n",
        "    localizacao = resultado.find('div', {'class': 'ad-card-info'}).find('p')\n",
        "    \n",
        "    resutado_dict = {}\n",
        "    \n",
        "    resutado_dict['área'] = caracteristicas.find_all('li')[0].get_text()\n",
        "    resutado_dict['quartos'] = caracteristicas.find_all('li')[1].get_text()\n",
        "    resutado_dict['banheiros'] = caracteristicas.find_all('li')[2].get_text()\n",
        "    resutado_dict['vagas garagem'] = caracteristicas.find_all('li')[3].get_text()\n",
        "    \n",
        "    for recur in recursos.find_all('li'):\n",
        "        resutado_dict[recur.get_text().lower()] = 'sim'\n",
        "        \n",
        "    resutado_dict['aluguel'] = precos_corretora.find_all('p')[0].get_text()\n",
        "    resutado_dict['condomínio'] = precos_corretora.find_all('p')[1].get_text()\n",
        "    resutado_dict['iptu'] = precos_corretora.find_all('p')[2].get_text()\n",
        "    resutado_dict['corretora'] = precos_corretora.find_all('p')[3].get_text()\n",
        "    \n",
        "    resutado_dict['localizacao'] = localizacao.get_text()\n",
        "    \n",
        "    resutados_lista.append(resutado_dict)"
      ],
      "execution_count": null,
      "outputs": []
    },
    {
      "cell_type": "code",
      "metadata": {
        "trusted": true,
        "id": "7j3j2A8gmqEH",
        "outputId": "726b928d-e84f-4d0f-e223-fa2762726d47"
      },
      "source": [
        "resutados_lista"
      ],
      "execution_count": null,
      "outputs": [
        {
          "output_type": "execute_result",
          "data": {
            "text/plain": [
              "[{'área': ' 100 m²',\n",
              "  'quartos': ' 3 quarto(s)',\n",
              "  'banheiros': ' 2 banheiro(s)',\n",
              "  'vagas garagem': ' 2 vaga(s)',\n",
              "  'mobiliado': 'sim',\n",
              "  'portaria 24h': 'sim',\n",
              "  'elevador': 'sim',\n",
              "  'piscina': 'sim',\n",
              "  'churrasqueira': 'sim',\n",
              "  'salão de festas': 'sim',\n",
              "  'academia': 'sim',\n",
              "  'playground': 'sim',\n",
              "  'quadra poliesportiva': 'sim',\n",
              "  'salão de jogos': 'sim',\n",
              "  'aceita animais': 'sim',\n",
              "  'aluguel': 'Aluguel: R$ 4.000,00',\n",
              "  'condomínio': 'Condomínio: 500,00',\n",
              "  'iptu': 'IPTU: R$ 100,00',\n",
              "  'corretora': 'Corretora: Tubarão',\n",
              "  'localizacao': 'Localização: Oceano Pacífico'},\n",
              " {'área': ' 60 m²',\n",
              "  'quartos': ' 2 quarto(s)',\n",
              "  'banheiros': ' 2 banheiro(s)',\n",
              "  'vagas garagem': ' 1 vaga(s)',\n",
              "  'mobiliado': 'sim',\n",
              "  'portaria 24h': 'sim',\n",
              "  'salão de festas': 'sim',\n",
              "  'quadra poliesportiva': 'sim',\n",
              "  'aluguel': 'Aluguel: R$ 2.000,00',\n",
              "  'condomínio': 'Condomínio: 200,00',\n",
              "  'iptu': 'IPTU: R$ 50,00',\n",
              "  'corretora': 'Corretora: Carangueijo',\n",
              "  'localizacao': 'Localização: Oceano Índico'},\n",
              " {'área': ' 50 m²',\n",
              "  'quartos': ' 1 quarto(s)',\n",
              "  'banheiros': ' 1 banheiro(s)',\n",
              "  'vagas garagem': ' 1 vaga(s)',\n",
              "  'mobiliado': 'sim',\n",
              "  'aluguel': 'Aluguel: R$ 1.300,00',\n",
              "  'condomínio': 'Condomínio: 200,00',\n",
              "  'iptu': 'IPTU: R$ 50,00',\n",
              "  'corretora': 'Corretora: Baleia Azul',\n",
              "  'localizacao': 'Localização: Mar de Java'},\n",
              " {'área': ' 60 m²',\n",
              "  'quartos': ' 2 quarto(s)',\n",
              "  'banheiros': ' 2 banheiro(s)',\n",
              "  'vagas garagem': ' 1 vaga(s)',\n",
              "  'mobiliado': 'sim',\n",
              "  'portaria 24h': 'sim',\n",
              "  'aluguel': 'Aluguel: R$ 1.800,00',\n",
              "  'condomínio': 'Condomínio: 100,00',\n",
              "  'iptu': 'IPTU: R$ 20,00',\n",
              "  'corretora': 'Corretora: Baleia Azul',\n",
              "  'localizacao': 'Localização: Oceano Índico'},\n",
              " {'área': ' 120 m²',\n",
              "  'quartos': ' 4 quarto(s)',\n",
              "  'banheiros': ' 3 banheiro(s)',\n",
              "  'vagas garagem': ' 2 vaga(s)',\n",
              "  'mobiliado': 'sim',\n",
              "  'portaria 24h': 'sim',\n",
              "  'elevador': 'sim',\n",
              "  'piscina': 'sim',\n",
              "  'churrasqueira': 'sim',\n",
              "  'salão de festas': 'sim',\n",
              "  'academia': 'sim',\n",
              "  'playground': 'sim',\n",
              "  'quadra poliesportiva': 'sim',\n",
              "  'salão de jogos': 'sim',\n",
              "  'aceita animais': 'sim',\n",
              "  'aluguel': 'Aluguel: R$ 3.800,00',\n",
              "  'condomínio': 'Condomínio: 500,00',\n",
              "  'iptu': 'IPTU: R$ 200,00',\n",
              "  'corretora': 'Corretora: Tubarão',\n",
              "  'localizacao': 'Localização: Oceano Pacífico'}]"
            ]
          },
          "metadata": {
            "tags": []
          },
          "execution_count": 52
        }
      ]
    },
    {
      "cell_type": "code",
      "metadata": {
        "trusted": true,
        "id": "yF3UrRxymqEI"
      },
      "source": [
        "resultados_df = pd.DataFrame(resutados_lista)"
      ],
      "execution_count": null,
      "outputs": []
    },
    {
      "cell_type": "code",
      "metadata": {
        "trusted": true,
        "id": "_sjF_r5CmqEJ",
        "outputId": "43c18957-cf1b-4233-c58f-e2a0ec7de72b"
      },
      "source": [
        "resultados_df"
      ],
      "execution_count": null,
      "outputs": [
        {
          "output_type": "execute_result",
          "data": {
            "text/plain": [
              "      área       quartos       banheiros vagas garagem mobiliado portaria 24h  \\\n",
              "0   100 m²   3 quarto(s)   2 banheiro(s)     2 vaga(s)       sim          sim   \n",
              "1    60 m²   2 quarto(s)   2 banheiro(s)     1 vaga(s)       sim          sim   \n",
              "2    50 m²   1 quarto(s)   1 banheiro(s)     1 vaga(s)       sim          NaN   \n",
              "3    60 m²   2 quarto(s)   2 banheiro(s)     1 vaga(s)       sim          sim   \n",
              "4   120 m²   4 quarto(s)   3 banheiro(s)     2 vaga(s)       sim          sim   \n",
              "\n",
              "  elevador piscina churrasqueira salão de festas academia playground  \\\n",
              "0      sim     sim           sim             sim      sim        sim   \n",
              "1      NaN     NaN           NaN             sim      NaN        NaN   \n",
              "2      NaN     NaN           NaN             NaN      NaN        NaN   \n",
              "3      NaN     NaN           NaN             NaN      NaN        NaN   \n",
              "4      sim     sim           sim             sim      sim        sim   \n",
              "\n",
              "  quadra poliesportiva salão de jogos aceita animais               aluguel  \\\n",
              "0                  sim            sim            sim  Aluguel: R$ 4.000,00   \n",
              "1                  sim            NaN            NaN  Aluguel: R$ 2.000,00   \n",
              "2                  NaN            NaN            NaN  Aluguel: R$ 1.300,00   \n",
              "3                  NaN            NaN            NaN  Aluguel: R$ 1.800,00   \n",
              "4                  sim            sim            sim  Aluguel: R$ 3.800,00   \n",
              "\n",
              "           condomínio             iptu               corretora  \\\n",
              "0  Condomínio: 500,00  IPTU: R$ 100,00      Corretora: Tubarão   \n",
              "1  Condomínio: 200,00   IPTU: R$ 50,00  Corretora: Carangueijo   \n",
              "2  Condomínio: 200,00   IPTU: R$ 50,00  Corretora: Baleia Azul   \n",
              "3  Condomínio: 100,00   IPTU: R$ 20,00  Corretora: Baleia Azul   \n",
              "4  Condomínio: 500,00  IPTU: R$ 200,00      Corretora: Tubarão   \n",
              "\n",
              "                    localizacao  \n",
              "0  Localização: Oceano Pacífico  \n",
              "1    Localização: Oceano Índico  \n",
              "2      Localização: Mar de Java  \n",
              "3    Localização: Oceano Índico  \n",
              "4  Localização: Oceano Pacífico  "
            ],
            "text/html": [
              "<div>\n",
              "<style scoped>\n",
              "    .dataframe tbody tr th:only-of-type {\n",
              "        vertical-align: middle;\n",
              "    }\n",
              "\n",
              "    .dataframe tbody tr th {\n",
              "        vertical-align: top;\n",
              "    }\n",
              "\n",
              "    .dataframe thead th {\n",
              "        text-align: right;\n",
              "    }\n",
              "</style>\n",
              "<table border=\"1\" class=\"dataframe\">\n",
              "  <thead>\n",
              "    <tr style=\"text-align: right;\">\n",
              "      <th></th>\n",
              "      <th>área</th>\n",
              "      <th>quartos</th>\n",
              "      <th>banheiros</th>\n",
              "      <th>vagas garagem</th>\n",
              "      <th>mobiliado</th>\n",
              "      <th>portaria 24h</th>\n",
              "      <th>elevador</th>\n",
              "      <th>piscina</th>\n",
              "      <th>churrasqueira</th>\n",
              "      <th>salão de festas</th>\n",
              "      <th>academia</th>\n",
              "      <th>playground</th>\n",
              "      <th>quadra poliesportiva</th>\n",
              "      <th>salão de jogos</th>\n",
              "      <th>aceita animais</th>\n",
              "      <th>aluguel</th>\n",
              "      <th>condomínio</th>\n",
              "      <th>iptu</th>\n",
              "      <th>corretora</th>\n",
              "      <th>localizacao</th>\n",
              "    </tr>\n",
              "  </thead>\n",
              "  <tbody>\n",
              "    <tr>\n",
              "      <th>0</th>\n",
              "      <td>100 m²</td>\n",
              "      <td>3 quarto(s)</td>\n",
              "      <td>2 banheiro(s)</td>\n",
              "      <td>2 vaga(s)</td>\n",
              "      <td>sim</td>\n",
              "      <td>sim</td>\n",
              "      <td>sim</td>\n",
              "      <td>sim</td>\n",
              "      <td>sim</td>\n",
              "      <td>sim</td>\n",
              "      <td>sim</td>\n",
              "      <td>sim</td>\n",
              "      <td>sim</td>\n",
              "      <td>sim</td>\n",
              "      <td>sim</td>\n",
              "      <td>Aluguel: R$ 4.000,00</td>\n",
              "      <td>Condomínio: 500,00</td>\n",
              "      <td>IPTU: R$ 100,00</td>\n",
              "      <td>Corretora: Tubarão</td>\n",
              "      <td>Localização: Oceano Pacífico</td>\n",
              "    </tr>\n",
              "    <tr>\n",
              "      <th>1</th>\n",
              "      <td>60 m²</td>\n",
              "      <td>2 quarto(s)</td>\n",
              "      <td>2 banheiro(s)</td>\n",
              "      <td>1 vaga(s)</td>\n",
              "      <td>sim</td>\n",
              "      <td>sim</td>\n",
              "      <td>NaN</td>\n",
              "      <td>NaN</td>\n",
              "      <td>NaN</td>\n",
              "      <td>sim</td>\n",
              "      <td>NaN</td>\n",
              "      <td>NaN</td>\n",
              "      <td>sim</td>\n",
              "      <td>NaN</td>\n",
              "      <td>NaN</td>\n",
              "      <td>Aluguel: R$ 2.000,00</td>\n",
              "      <td>Condomínio: 200,00</td>\n",
              "      <td>IPTU: R$ 50,00</td>\n",
              "      <td>Corretora: Carangueijo</td>\n",
              "      <td>Localização: Oceano Índico</td>\n",
              "    </tr>\n",
              "    <tr>\n",
              "      <th>2</th>\n",
              "      <td>50 m²</td>\n",
              "      <td>1 quarto(s)</td>\n",
              "      <td>1 banheiro(s)</td>\n",
              "      <td>1 vaga(s)</td>\n",
              "      <td>sim</td>\n",
              "      <td>NaN</td>\n",
              "      <td>NaN</td>\n",
              "      <td>NaN</td>\n",
              "      <td>NaN</td>\n",
              "      <td>NaN</td>\n",
              "      <td>NaN</td>\n",
              "      <td>NaN</td>\n",
              "      <td>NaN</td>\n",
              "      <td>NaN</td>\n",
              "      <td>NaN</td>\n",
              "      <td>Aluguel: R$ 1.300,00</td>\n",
              "      <td>Condomínio: 200,00</td>\n",
              "      <td>IPTU: R$ 50,00</td>\n",
              "      <td>Corretora: Baleia Azul</td>\n",
              "      <td>Localização: Mar de Java</td>\n",
              "    </tr>\n",
              "    <tr>\n",
              "      <th>3</th>\n",
              "      <td>60 m²</td>\n",
              "      <td>2 quarto(s)</td>\n",
              "      <td>2 banheiro(s)</td>\n",
              "      <td>1 vaga(s)</td>\n",
              "      <td>sim</td>\n",
              "      <td>sim</td>\n",
              "      <td>NaN</td>\n",
              "      <td>NaN</td>\n",
              "      <td>NaN</td>\n",
              "      <td>NaN</td>\n",
              "      <td>NaN</td>\n",
              "      <td>NaN</td>\n",
              "      <td>NaN</td>\n",
              "      <td>NaN</td>\n",
              "      <td>NaN</td>\n",
              "      <td>Aluguel: R$ 1.800,00</td>\n",
              "      <td>Condomínio: 100,00</td>\n",
              "      <td>IPTU: R$ 20,00</td>\n",
              "      <td>Corretora: Baleia Azul</td>\n",
              "      <td>Localização: Oceano Índico</td>\n",
              "    </tr>\n",
              "    <tr>\n",
              "      <th>4</th>\n",
              "      <td>120 m²</td>\n",
              "      <td>4 quarto(s)</td>\n",
              "      <td>3 banheiro(s)</td>\n",
              "      <td>2 vaga(s)</td>\n",
              "      <td>sim</td>\n",
              "      <td>sim</td>\n",
              "      <td>sim</td>\n",
              "      <td>sim</td>\n",
              "      <td>sim</td>\n",
              "      <td>sim</td>\n",
              "      <td>sim</td>\n",
              "      <td>sim</td>\n",
              "      <td>sim</td>\n",
              "      <td>sim</td>\n",
              "      <td>sim</td>\n",
              "      <td>Aluguel: R$ 3.800,00</td>\n",
              "      <td>Condomínio: 500,00</td>\n",
              "      <td>IPTU: R$ 200,00</td>\n",
              "      <td>Corretora: Tubarão</td>\n",
              "      <td>Localização: Oceano Pacífico</td>\n",
              "    </tr>\n",
              "  </tbody>\n",
              "</table>\n",
              "</div>"
            ]
          },
          "metadata": {
            "tags": []
          },
          "execution_count": 40
        }
      ]
    },
    {
      "cell_type": "code",
      "metadata": {
        "trusted": true,
        "id": "5FI76NQgmqEJ",
        "outputId": "df691dd1-6c5f-4786-eb0a-6670783e719c"
      },
      "source": [
        "resultados_df.dtypes"
      ],
      "execution_count": null,
      "outputs": [
        {
          "output_type": "execute_result",
          "data": {
            "text/plain": [
              "área                    object\n",
              "quartos                 object\n",
              "banheiros               object\n",
              "vagas garagem           object\n",
              "mobiliado               object\n",
              "portaria 24h            object\n",
              "elevador                object\n",
              "piscina                 object\n",
              "churrasqueira           object\n",
              "salão de festas         object\n",
              "academia                object\n",
              "playground              object\n",
              "quadra poliesportiva    object\n",
              "salão de jogos          object\n",
              "aceita animais          object\n",
              "aluguel                 object\n",
              "condomínio              object\n",
              "iptu                    object\n",
              "corretora               object\n",
              "localizacao             object\n",
              "dtype: object"
            ]
          },
          "metadata": {
            "tags": []
          },
          "execution_count": 55
        }
      ]
    },
    {
      "cell_type": "markdown",
      "metadata": {
        "id": "E9IXNwZWmqEL"
      },
      "source": [
        "#### 3.2.2) Persistindo os dados coletados em um DataFrame (tentativa 2)"
      ]
    },
    {
      "cell_type": "code",
      "metadata": {
        "trusted": true,
        "id": "nPQ_vk7tmqEM"
      },
      "source": [
        "resutados_lista = []"
      ],
      "execution_count": null,
      "outputs": []
    },
    {
      "cell_type": "code",
      "metadata": {
        "trusted": true,
        "id": "NOSn2QNTmqEM"
      },
      "source": [
        "for resultado in soup_busca.find('div', {'class': 'ad-card-list'}).find_all('div', {'class': 'ad-card'}):\n",
        "    caracteristicas = resultado.find('ul', {'class': 'features'})\n",
        "    recursos = resultado.find('ul', {'class': 'resources'})\n",
        "    precos_corretora = resultado.find('div', {'class': 'ad-card-price'})\n",
        "    localizacao = resultado.find('div', {'class': 'ad-card-info'}).find('p')\n",
        "    \n",
        "    resutado_dict = {}\n",
        "    \n",
        "    resutado_dict['área'] = int(caracteristicas.find_all('li')[0].get_text().replace(' ','').replace('m²',''))\n",
        "    resutado_dict['quartos'] = int(caracteristicas.find_all('li')[1].get_text().replace(' ','').replace('quarto(s)',''))\n",
        "    resutado_dict['banheiros'] = int(caracteristicas.find_all('li')[2].get_text().replace(' ','').replace('banheiro(s)',''))\n",
        "    resutado_dict['vagas garagem'] = int(caracteristicas.find_all('li')[3].get_text().replace(' ','').replace('vaga(s)',''))\n",
        "    \n",
        "    for recur in recursos.find_all('li'):\n",
        "        resutado_dict[recur.get_text().lower()] = 'sim'\n",
        "        \n",
        "    resutado_dict['aluguel'] = float(precos_corretora.find_all('p')[0].get_text().replace('Aluguel: R$ ','').replace('.','').replace(',','.'))\n",
        "    resutado_dict['condomínio'] = float(precos_corretora.find_all('p')[1].get_text().replace('Condomínio: ','').replace('.','').replace(',','.'))\n",
        "    resutado_dict['iptu'] = float(precos_corretora.find_all('p')[2].get_text().replace('IPTU: R$ ','').replace('.','').replace(',','.'))\n",
        "    \n",
        "    resutado_dict['corretora'] = precos_corretora.find_all('p')[3].get_text().replace('Corretora: ','')\n",
        "    \n",
        "    resutado_dict['localizacao'] = localizacao.get_text().replace('Localização: ','')\n",
        "    \n",
        "    resutados_lista.append(resutado_dict)"
      ],
      "execution_count": null,
      "outputs": []
    },
    {
      "cell_type": "code",
      "metadata": {
        "trusted": true,
        "id": "wRg972SlmqEN",
        "outputId": "1f7807ce-6877-4a0c-e227-1b252e457576"
      },
      "source": [
        "resultados_df = pd.DataFrame(resutados_lista)\n",
        "resultados_df"
      ],
      "execution_count": null,
      "outputs": [
        {
          "output_type": "execute_result",
          "data": {
            "text/plain": [
              "   área  quartos  banheiros  vagas garagem mobiliado portaria 24h elevador  \\\n",
              "0   100        3          2              2       sim          sim      sim   \n",
              "1    60        2          2              1       sim          sim      NaN   \n",
              "2    50        1          1              1       sim          NaN      NaN   \n",
              "3    60        2          2              1       sim          sim      NaN   \n",
              "4   120        4          3              2       sim          sim      sim   \n",
              "\n",
              "  piscina churrasqueira salão de festas academia playground  \\\n",
              "0     sim           sim             sim      sim        sim   \n",
              "1     NaN           NaN             sim      NaN        NaN   \n",
              "2     NaN           NaN             NaN      NaN        NaN   \n",
              "3     NaN           NaN             NaN      NaN        NaN   \n",
              "4     sim           sim             sim      sim        sim   \n",
              "\n",
              "  quadra poliesportiva salão de jogos aceita animais  aluguel  condomínio  \\\n",
              "0                  sim            sim            sim   4000.0       500.0   \n",
              "1                  sim            NaN            NaN   2000.0       200.0   \n",
              "2                  NaN            NaN            NaN   1300.0       200.0   \n",
              "3                  NaN            NaN            NaN   1800.0       100.0   \n",
              "4                  sim            sim            sim   3800.0       500.0   \n",
              "\n",
              "    iptu    corretora      localizacao  \n",
              "0  100.0      Tubarão  Oceano Pacífico  \n",
              "1   50.0  Carangueijo    Oceano Índico  \n",
              "2   50.0  Baleia Azul      Mar de Java  \n",
              "3   20.0  Baleia Azul    Oceano Índico  \n",
              "4  200.0      Tubarão  Oceano Pacífico  "
            ],
            "text/html": [
              "<div>\n",
              "<style scoped>\n",
              "    .dataframe tbody tr th:only-of-type {\n",
              "        vertical-align: middle;\n",
              "    }\n",
              "\n",
              "    .dataframe tbody tr th {\n",
              "        vertical-align: top;\n",
              "    }\n",
              "\n",
              "    .dataframe thead th {\n",
              "        text-align: right;\n",
              "    }\n",
              "</style>\n",
              "<table border=\"1\" class=\"dataframe\">\n",
              "  <thead>\n",
              "    <tr style=\"text-align: right;\">\n",
              "      <th></th>\n",
              "      <th>área</th>\n",
              "      <th>quartos</th>\n",
              "      <th>banheiros</th>\n",
              "      <th>vagas garagem</th>\n",
              "      <th>mobiliado</th>\n",
              "      <th>portaria 24h</th>\n",
              "      <th>elevador</th>\n",
              "      <th>piscina</th>\n",
              "      <th>churrasqueira</th>\n",
              "      <th>salão de festas</th>\n",
              "      <th>academia</th>\n",
              "      <th>playground</th>\n",
              "      <th>quadra poliesportiva</th>\n",
              "      <th>salão de jogos</th>\n",
              "      <th>aceita animais</th>\n",
              "      <th>aluguel</th>\n",
              "      <th>condomínio</th>\n",
              "      <th>iptu</th>\n",
              "      <th>corretora</th>\n",
              "      <th>localizacao</th>\n",
              "    </tr>\n",
              "  </thead>\n",
              "  <tbody>\n",
              "    <tr>\n",
              "      <th>0</th>\n",
              "      <td>100</td>\n",
              "      <td>3</td>\n",
              "      <td>2</td>\n",
              "      <td>2</td>\n",
              "      <td>sim</td>\n",
              "      <td>sim</td>\n",
              "      <td>sim</td>\n",
              "      <td>sim</td>\n",
              "      <td>sim</td>\n",
              "      <td>sim</td>\n",
              "      <td>sim</td>\n",
              "      <td>sim</td>\n",
              "      <td>sim</td>\n",
              "      <td>sim</td>\n",
              "      <td>sim</td>\n",
              "      <td>4000.0</td>\n",
              "      <td>500.0</td>\n",
              "      <td>100.0</td>\n",
              "      <td>Tubarão</td>\n",
              "      <td>Oceano Pacífico</td>\n",
              "    </tr>\n",
              "    <tr>\n",
              "      <th>1</th>\n",
              "      <td>60</td>\n",
              "      <td>2</td>\n",
              "      <td>2</td>\n",
              "      <td>1</td>\n",
              "      <td>sim</td>\n",
              "      <td>sim</td>\n",
              "      <td>NaN</td>\n",
              "      <td>NaN</td>\n",
              "      <td>NaN</td>\n",
              "      <td>sim</td>\n",
              "      <td>NaN</td>\n",
              "      <td>NaN</td>\n",
              "      <td>sim</td>\n",
              "      <td>NaN</td>\n",
              "      <td>NaN</td>\n",
              "      <td>2000.0</td>\n",
              "      <td>200.0</td>\n",
              "      <td>50.0</td>\n",
              "      <td>Carangueijo</td>\n",
              "      <td>Oceano Índico</td>\n",
              "    </tr>\n",
              "    <tr>\n",
              "      <th>2</th>\n",
              "      <td>50</td>\n",
              "      <td>1</td>\n",
              "      <td>1</td>\n",
              "      <td>1</td>\n",
              "      <td>sim</td>\n",
              "      <td>NaN</td>\n",
              "      <td>NaN</td>\n",
              "      <td>NaN</td>\n",
              "      <td>NaN</td>\n",
              "      <td>NaN</td>\n",
              "      <td>NaN</td>\n",
              "      <td>NaN</td>\n",
              "      <td>NaN</td>\n",
              "      <td>NaN</td>\n",
              "      <td>NaN</td>\n",
              "      <td>1300.0</td>\n",
              "      <td>200.0</td>\n",
              "      <td>50.0</td>\n",
              "      <td>Baleia Azul</td>\n",
              "      <td>Mar de Java</td>\n",
              "    </tr>\n",
              "    <tr>\n",
              "      <th>3</th>\n",
              "      <td>60</td>\n",
              "      <td>2</td>\n",
              "      <td>2</td>\n",
              "      <td>1</td>\n",
              "      <td>sim</td>\n",
              "      <td>sim</td>\n",
              "      <td>NaN</td>\n",
              "      <td>NaN</td>\n",
              "      <td>NaN</td>\n",
              "      <td>NaN</td>\n",
              "      <td>NaN</td>\n",
              "      <td>NaN</td>\n",
              "      <td>NaN</td>\n",
              "      <td>NaN</td>\n",
              "      <td>NaN</td>\n",
              "      <td>1800.0</td>\n",
              "      <td>100.0</td>\n",
              "      <td>20.0</td>\n",
              "      <td>Baleia Azul</td>\n",
              "      <td>Oceano Índico</td>\n",
              "    </tr>\n",
              "    <tr>\n",
              "      <th>4</th>\n",
              "      <td>120</td>\n",
              "      <td>4</td>\n",
              "      <td>3</td>\n",
              "      <td>2</td>\n",
              "      <td>sim</td>\n",
              "      <td>sim</td>\n",
              "      <td>sim</td>\n",
              "      <td>sim</td>\n",
              "      <td>sim</td>\n",
              "      <td>sim</td>\n",
              "      <td>sim</td>\n",
              "      <td>sim</td>\n",
              "      <td>sim</td>\n",
              "      <td>sim</td>\n",
              "      <td>sim</td>\n",
              "      <td>3800.0</td>\n",
              "      <td>500.0</td>\n",
              "      <td>200.0</td>\n",
              "      <td>Tubarão</td>\n",
              "      <td>Oceano Pacífico</td>\n",
              "    </tr>\n",
              "  </tbody>\n",
              "</table>\n",
              "</div>"
            ]
          },
          "metadata": {
            "tags": []
          },
          "execution_count": 43
        }
      ]
    },
    {
      "cell_type": "code",
      "metadata": {
        "trusted": true,
        "id": "aG_mpjAGmqEO",
        "outputId": "deda369b-62b5-4968-c4b0-f2dea7f60b48"
      },
      "source": [
        "resultados_df = resultados_df.fillna(value='não')\n",
        "resultados_df"
      ],
      "execution_count": null,
      "outputs": [
        {
          "output_type": "execute_result",
          "data": {
            "text/plain": [
              "   área  quartos  banheiros  vagas garagem mobiliado portaria 24h elevador  \\\n",
              "0   100        3          2              2       sim          sim      sim   \n",
              "1    60        2          2              1       sim          sim      não   \n",
              "2    50        1          1              1       sim          não      não   \n",
              "3    60        2          2              1       sim          sim      não   \n",
              "4   120        4          3              2       sim          sim      sim   \n",
              "\n",
              "  piscina churrasqueira salão de festas academia playground  \\\n",
              "0     sim           sim             sim      sim        sim   \n",
              "1     não           não             sim      não        não   \n",
              "2     não           não             não      não        não   \n",
              "3     não           não             não      não        não   \n",
              "4     sim           sim             sim      sim        sim   \n",
              "\n",
              "  quadra poliesportiva salão de jogos aceita animais  aluguel  condomínio  \\\n",
              "0                  sim            sim            sim   4000.0       500.0   \n",
              "1                  sim            não            não   2000.0       200.0   \n",
              "2                  não            não            não   1300.0       200.0   \n",
              "3                  não            não            não   1800.0       100.0   \n",
              "4                  sim            sim            sim   3800.0       500.0   \n",
              "\n",
              "    iptu    corretora      localizacao  \n",
              "0  100.0      Tubarão  Oceano Pacífico  \n",
              "1   50.0  Carangueijo    Oceano Índico  \n",
              "2   50.0  Baleia Azul      Mar de Java  \n",
              "3   20.0  Baleia Azul    Oceano Índico  \n",
              "4  200.0      Tubarão  Oceano Pacífico  "
            ],
            "text/html": [
              "<div>\n",
              "<style scoped>\n",
              "    .dataframe tbody tr th:only-of-type {\n",
              "        vertical-align: middle;\n",
              "    }\n",
              "\n",
              "    .dataframe tbody tr th {\n",
              "        vertical-align: top;\n",
              "    }\n",
              "\n",
              "    .dataframe thead th {\n",
              "        text-align: right;\n",
              "    }\n",
              "</style>\n",
              "<table border=\"1\" class=\"dataframe\">\n",
              "  <thead>\n",
              "    <tr style=\"text-align: right;\">\n",
              "      <th></th>\n",
              "      <th>área</th>\n",
              "      <th>quartos</th>\n",
              "      <th>banheiros</th>\n",
              "      <th>vagas garagem</th>\n",
              "      <th>mobiliado</th>\n",
              "      <th>portaria 24h</th>\n",
              "      <th>elevador</th>\n",
              "      <th>piscina</th>\n",
              "      <th>churrasqueira</th>\n",
              "      <th>salão de festas</th>\n",
              "      <th>academia</th>\n",
              "      <th>playground</th>\n",
              "      <th>quadra poliesportiva</th>\n",
              "      <th>salão de jogos</th>\n",
              "      <th>aceita animais</th>\n",
              "      <th>aluguel</th>\n",
              "      <th>condomínio</th>\n",
              "      <th>iptu</th>\n",
              "      <th>corretora</th>\n",
              "      <th>localizacao</th>\n",
              "    </tr>\n",
              "  </thead>\n",
              "  <tbody>\n",
              "    <tr>\n",
              "      <th>0</th>\n",
              "      <td>100</td>\n",
              "      <td>3</td>\n",
              "      <td>2</td>\n",
              "      <td>2</td>\n",
              "      <td>sim</td>\n",
              "      <td>sim</td>\n",
              "      <td>sim</td>\n",
              "      <td>sim</td>\n",
              "      <td>sim</td>\n",
              "      <td>sim</td>\n",
              "      <td>sim</td>\n",
              "      <td>sim</td>\n",
              "      <td>sim</td>\n",
              "      <td>sim</td>\n",
              "      <td>sim</td>\n",
              "      <td>4000.0</td>\n",
              "      <td>500.0</td>\n",
              "      <td>100.0</td>\n",
              "      <td>Tubarão</td>\n",
              "      <td>Oceano Pacífico</td>\n",
              "    </tr>\n",
              "    <tr>\n",
              "      <th>1</th>\n",
              "      <td>60</td>\n",
              "      <td>2</td>\n",
              "      <td>2</td>\n",
              "      <td>1</td>\n",
              "      <td>sim</td>\n",
              "      <td>sim</td>\n",
              "      <td>não</td>\n",
              "      <td>não</td>\n",
              "      <td>não</td>\n",
              "      <td>sim</td>\n",
              "      <td>não</td>\n",
              "      <td>não</td>\n",
              "      <td>sim</td>\n",
              "      <td>não</td>\n",
              "      <td>não</td>\n",
              "      <td>2000.0</td>\n",
              "      <td>200.0</td>\n",
              "      <td>50.0</td>\n",
              "      <td>Carangueijo</td>\n",
              "      <td>Oceano Índico</td>\n",
              "    </tr>\n",
              "    <tr>\n",
              "      <th>2</th>\n",
              "      <td>50</td>\n",
              "      <td>1</td>\n",
              "      <td>1</td>\n",
              "      <td>1</td>\n",
              "      <td>sim</td>\n",
              "      <td>não</td>\n",
              "      <td>não</td>\n",
              "      <td>não</td>\n",
              "      <td>não</td>\n",
              "      <td>não</td>\n",
              "      <td>não</td>\n",
              "      <td>não</td>\n",
              "      <td>não</td>\n",
              "      <td>não</td>\n",
              "      <td>não</td>\n",
              "      <td>1300.0</td>\n",
              "      <td>200.0</td>\n",
              "      <td>50.0</td>\n",
              "      <td>Baleia Azul</td>\n",
              "      <td>Mar de Java</td>\n",
              "    </tr>\n",
              "    <tr>\n",
              "      <th>3</th>\n",
              "      <td>60</td>\n",
              "      <td>2</td>\n",
              "      <td>2</td>\n",
              "      <td>1</td>\n",
              "      <td>sim</td>\n",
              "      <td>sim</td>\n",
              "      <td>não</td>\n",
              "      <td>não</td>\n",
              "      <td>não</td>\n",
              "      <td>não</td>\n",
              "      <td>não</td>\n",
              "      <td>não</td>\n",
              "      <td>não</td>\n",
              "      <td>não</td>\n",
              "      <td>não</td>\n",
              "      <td>1800.0</td>\n",
              "      <td>100.0</td>\n",
              "      <td>20.0</td>\n",
              "      <td>Baleia Azul</td>\n",
              "      <td>Oceano Índico</td>\n",
              "    </tr>\n",
              "    <tr>\n",
              "      <th>4</th>\n",
              "      <td>120</td>\n",
              "      <td>4</td>\n",
              "      <td>3</td>\n",
              "      <td>2</td>\n",
              "      <td>sim</td>\n",
              "      <td>sim</td>\n",
              "      <td>sim</td>\n",
              "      <td>sim</td>\n",
              "      <td>sim</td>\n",
              "      <td>sim</td>\n",
              "      <td>sim</td>\n",
              "      <td>sim</td>\n",
              "      <td>sim</td>\n",
              "      <td>sim</td>\n",
              "      <td>sim</td>\n",
              "      <td>3800.0</td>\n",
              "      <td>500.0</td>\n",
              "      <td>200.0</td>\n",
              "      <td>Tubarão</td>\n",
              "      <td>Oceano Pacífico</td>\n",
              "    </tr>\n",
              "  </tbody>\n",
              "</table>\n",
              "</div>"
            ]
          },
          "metadata": {
            "tags": []
          },
          "execution_count": 44
        }
      ]
    },
    {
      "cell_type": "code",
      "metadata": {
        "trusted": true,
        "id": "2qlLmV1smqEP",
        "outputId": "5b608f84-c2f6-45e2-a360-fe00f0a38b42"
      },
      "source": [
        "resultados_df.dtypes"
      ],
      "execution_count": null,
      "outputs": [
        {
          "output_type": "execute_result",
          "data": {
            "text/plain": [
              "área                      int64\n",
              "quartos                   int64\n",
              "banheiros                 int64\n",
              "vagas garagem             int64\n",
              "mobiliado                object\n",
              "portaria 24h             object\n",
              "elevador                 object\n",
              "piscina                  object\n",
              "churrasqueira            object\n",
              "salão de festas          object\n",
              "academia                 object\n",
              "playground               object\n",
              "quadra poliesportiva     object\n",
              "salão de jogos           object\n",
              "aceita animais           object\n",
              "aluguel                 float64\n",
              "condomínio              float64\n",
              "iptu                    float64\n",
              "corretora                object\n",
              "localizacao              object\n",
              "dtype: object"
            ]
          },
          "metadata": {
            "tags": []
          },
          "execution_count": 45
        }
      ]
    },
    {
      "cell_type": "markdown",
      "metadata": {
        "id": "gbJokbvOmqEQ"
      },
      "source": [
        "### 3.3) Coletando as imagens da primeira página"
      ]
    },
    {
      "cell_type": "markdown",
      "metadata": {
        "id": "5hhh5EMrmqEQ"
      },
      "source": [
        "#### 3.3.1) Criando um diretório para as imagens"
      ]
    },
    {
      "cell_type": "code",
      "metadata": {
        "trusted": true,
        "id": "cC6NaZ6DmqEQ"
      },
      "source": [
        "import os"
      ],
      "execution_count": null,
      "outputs": []
    },
    {
      "cell_type": "code",
      "metadata": {
        "trusted": true,
        "id": "G9hdPqmwmqER"
      },
      "source": [
        "os.makedirs('imagens')"
      ],
      "execution_count": null,
      "outputs": []
    },
    {
      "cell_type": "markdown",
      "metadata": {
        "id": "id6tQfazmqER"
      },
      "source": [
        "#### 3.3.2) Obtendo as imagens"
      ]
    },
    {
      "cell_type": "code",
      "metadata": {
        "trusted": true,
        "id": "zDiS-eyTmqES"
      },
      "source": [
        "soup_busca.find('div', {'class': 'ad-card-list'})"
      ],
      "execution_count": null,
      "outputs": []
    },
    {
      "cell_type": "code",
      "metadata": {
        "trusted": true,
        "id": "yVW3ut1emqES"
      },
      "source": [
        "soup_busca.find('div', {'class': 'ad-card-list'}).find_all('div', {'class': 'ad-card'})"
      ],
      "execution_count": null,
      "outputs": []
    },
    {
      "cell_type": "code",
      "metadata": {
        "trusted": true,
        "id": "6_-pj0l_mqET"
      },
      "source": [
        "for resultado in soup_busca.find('div', {'class': 'ad-card-list'}).find_all('div', {'class': 'ad-card'}):\n",
        "    print(resultado.img)"
      ],
      "execution_count": null,
      "outputs": []
    },
    {
      "cell_type": "code",
      "metadata": {
        "trusted": true,
        "id": "1XsTUj55mqET"
      },
      "source": [
        "for resultado in soup_busca.find('div', {'class': 'ad-card-list'}).find_all('div', {'class': 'ad-card'}):\n",
        "    print(resultado.img.get('src'))"
      ],
      "execution_count": null,
      "outputs": []
    },
    {
      "cell_type": "code",
      "metadata": {
        "trusted": true,
        "id": "VtU6ZhYGmqEU"
      },
      "source": [
        "for resultado in soup_busca.find('div', {'class': 'ad-card-list'}).find_all('div', {'class': 'ad-card'}):\n",
        "    print(resultado.img.get('src').replace('imagens/',''))"
      ],
      "execution_count": null,
      "outputs": []
    },
    {
      "cell_type": "code",
      "metadata": {
        "trusted": true,
        "id": "DCwAfTR8mqEU"
      },
      "source": [
        "endereco = 'https://ocean-web-scraping.herokuapp.com/'\n",
        "\n",
        "for resultado in soup_busca.find('div', {'class': 'ad-card-list'}).find_all('div', {'class': 'ad-card'}):\n",
        "    print(endereco + resultado.img.get('src'))"
      ],
      "execution_count": null,
      "outputs": []
    },
    {
      "cell_type": "code",
      "metadata": {
        "trusted": true,
        "id": "Weo_2rkmmqEU"
      },
      "source": [
        "from urllib.request import urlretrieve"
      ],
      "execution_count": null,
      "outputs": []
    },
    {
      "cell_type": "code",
      "metadata": {
        "trusted": true,
        "id": "4FCddrOYmqEV"
      },
      "source": [
        "for resultado in soup_busca.find('div', {'class': 'ad-card-list'}).find_all('div', {'class': 'ad-card'}):\n",
        "    endereco_imagem = endereco + resultado.img.get('src')\n",
        "    nome_imagem = resultado.img.get('src').replace('imagens/','')\n",
        "    \n",
        "    urlretrieve(endereco_imagem, '/kaggle/working/imagens/' + nome_imagem)"
      ],
      "execution_count": null,
      "outputs": []
    },
    {
      "cell_type": "markdown",
      "metadata": {
        "id": "4qnTnir7mqEV"
      },
      "source": [
        "#### 3.3.3) Compactando todas as imagens para baixar posteriormente"
      ]
    },
    {
      "cell_type": "code",
      "metadata": {
        "trusted": true,
        "id": "CObJdiUumqEW"
      },
      "source": [
        "from zipfile import ZipFile"
      ],
      "execution_count": null,
      "outputs": []
    },
    {
      "cell_type": "code",
      "metadata": {
        "trusted": true,
        "id": "vinvFBPcmqEW"
      },
      "source": [
        "with ZipFile('imagens.zip', 'w') as zf:\n",
        "    for pasta_principal, sub_pastas, arquivos in os.walk('/kaggle/working/imagens/'):\n",
        "        for arquivo in arquivos:\n",
        "            pasta = os.path.join(pasta_principal, arquivo)\n",
        "            zf.write(pasta)"
      ],
      "execution_count": null,
      "outputs": []
    },
    {
      "cell_type": "markdown",
      "metadata": {
        "id": "GUWKYCk3mqEX"
      },
      "source": [
        "### 3.4) E se eu quiser coletar todos os resultados da busca por imóveis?"
      ]
    },
    {
      "cell_type": "markdown",
      "metadata": {
        "id": "KA7Fbi0HmqEX"
      },
      "source": [
        "#### 3.4.1) Dados gerais"
      ]
    },
    {
      "cell_type": "code",
      "metadata": {
        "trusted": true,
        "id": "jSb-RhZ7mqEX"
      },
      "source": [
        "resutados_lista = []"
      ],
      "execution_count": null,
      "outputs": []
    },
    {
      "cell_type": "code",
      "metadata": {
        "trusted": true,
        "id": "-SjIfMbqmqEY"
      },
      "source": [
        "for i in range(1,6):\n",
        "    url_busca_todos = 'https://ocean-web-scraping.herokuapp.com/results&page=' + str(i) + '.html'\n",
        "    print(url_busca_todos)\n",
        "    response_busca_todos = urlopen(url_busca_todos)\n",
        "    html_busca_todos = response_busca_todos.read()\n",
        "    soup_busca_todos = BeautifulSoup(html_busca_todos, 'html.parser')\n",
        "    \n",
        "    for resultado in soup_busca_todos.find('div', {'class': 'ad-card-list'}).find_all('div', {'class': 'ad-card'}):\n",
        "        caracteristicas = resultado.find('ul', {'class': 'features'})\n",
        "        recursos = resultado.find('ul', {'class': 'resources'})\n",
        "        precos_corretora = resultado.find('div', {'class': 'ad-card-price'})\n",
        "        localizacao = resultado.find('div', {'class': 'ad-card-info'}).find('p')\n",
        "\n",
        "        resutado_dict = {}\n",
        "\n",
        "        resutado_dict['área'] = int(caracteristicas.find_all('li')[0].get_text().replace(' ','').replace('m²',''))\n",
        "        resutado_dict['quartos'] = int(caracteristicas.find_all('li')[1].get_text().replace(' ','').replace('quarto(s)',''))\n",
        "        resutado_dict['banheiros'] = int(caracteristicas.find_all('li')[2].get_text().replace(' ','').replace('banheiro(s)',''))\n",
        "        resutado_dict['vagas garagem'] = int(caracteristicas.find_all('li')[3].get_text().replace(' ','').replace('vaga(s)',''))\n",
        "\n",
        "        for recur in recursos.find_all('li'):\n",
        "            resutado_dict[recur.get_text().lower()] = 'sim'\n",
        "\n",
        "        resutado_dict['aluguel'] = float(precos_corretora.find_all('p')[0].get_text().replace('Aluguel: R$ ','').replace('.','').replace(',','.'))\n",
        "        resutado_dict['condomínio'] = float(precos_corretora.find_all('p')[1].get_text().replace('Condomínio: ','').replace('.','').replace(',','.'))\n",
        "        resutado_dict['iptu'] = float(precos_corretora.find_all('p')[2].get_text().replace('IPTU: R$ ','').replace('.','').replace(',','.'))\n",
        "        resutado_dict['corretora'] = precos_corretora.find_all('p')[3].get_text().replace('Corretora: ','')\n",
        "\n",
        "        resutado_dict['localizacao'] = localizacao.get_text().replace('Localização: ','')\n",
        "\n",
        "        resutados_lista.append(resutado_dict)"
      ],
      "execution_count": null,
      "outputs": []
    },
    {
      "cell_type": "code",
      "metadata": {
        "trusted": true,
        "id": "uV3YpahlmqEY"
      },
      "source": [
        "resultados_df = pd.DataFrame(resutados_lista)\n",
        "resultados_df = resultados_df.fillna(value='não')\n",
        "resultados_df"
      ],
      "execution_count": null,
      "outputs": []
    },
    {
      "cell_type": "markdown",
      "metadata": {
        "id": "Oj8A0ax_mqEZ"
      },
      "source": [
        "#### Salvando toda a base de dados"
      ]
    },
    {
      "cell_type": "code",
      "metadata": {
        "trusted": true,
        "id": "ZHGQa2U1mqEZ"
      },
      "source": [
        "resultados_df.to_csv('./resultados.csv', sep = ';', index = False, encoding = 'utf-8')"
      ],
      "execution_count": null,
      "outputs": []
    },
    {
      "cell_type": "markdown",
      "metadata": {
        "id": "Y4D2-F7hmqEZ"
      },
      "source": [
        "#### 3.4.2) Imagens"
      ]
    },
    {
      "cell_type": "code",
      "metadata": {
        "trusted": true,
        "id": "qlvPb42ImqEa"
      },
      "source": [
        "for i in range(1,6):\n",
        "    url_busca_todos = 'https://ocean-web-scraping.herokuapp.com/results&page=' + str(i) + '.html'\n",
        "    print(url_busca_todos)\n",
        "    response_busca_todos = urlopen(url_busca_todos)\n",
        "    html_busca_todos = response_busca_todos.read()\n",
        "    soup_busca_todos = BeautifulSoup(html_busca_todos, 'html.parser')\n",
        "    \n",
        "    endereco = 'https://ocean-web-scraping.herokuapp.com/'\n",
        "    \n",
        "    for resultado in soup_busca_todos.find('div', {'class': 'ad-card-list'}).find_all('div', {'class': 'ad-card'}):\n",
        "        endereco_imagem = endereco + resultado.img.get('src')\n",
        "        nome_imagem = resultado.img.get('src').replace('imagens/','')\n",
        "    \n",
        "        urlretrieve(endereco_imagem, '/kaggle/working/imagens/' + nome_imagem)"
      ],
      "execution_count": null,
      "outputs": []
    },
    {
      "cell_type": "code",
      "metadata": {
        "trusted": true,
        "id": "EQArTvQ5mqEa"
      },
      "source": [
        "with ZipFile('imagens.zip', 'w') as zf:\n",
        "    for pasta_principal, sub_pastas, arquivos in os.walk('/kaggle/working/imagens/'):\n",
        "        for arquivo in arquivos:\n",
        "            pasta = os.path.join(pasta_principal, arquivo)\n",
        "            zf.write(pasta)"
      ],
      "execution_count": null,
      "outputs": []
    },
    {
      "cell_type": "markdown",
      "metadata": {
        "id": "Mz8Z9rA0mqEb"
      },
      "source": [
        "## 4) Coletando a lista de contato das corretoras"
      ]
    },
    {
      "cell_type": "code",
      "metadata": {
        "trusted": true,
        "id": "4WYdRo73mqEb"
      },
      "source": [
        "lista_corretoras = []\n",
        "lista_nomes = []\n",
        "lista_contatos = []\n",
        "contatos_corretoras_dict = {}"
      ],
      "execution_count": null,
      "outputs": []
    },
    {
      "cell_type": "markdown",
      "metadata": {
        "id": "r9qy_Ea2mqEb"
      },
      "source": [
        "### 4.1) Coletando dados da corretora 'Tubarão'"
      ]
    },
    {
      "cell_type": "code",
      "metadata": {
        "trusted": true,
        "id": "Gi3Oeg8KmqEc"
      },
      "source": [
        "soup_corretoras.find('tbody')"
      ],
      "execution_count": null,
      "outputs": []
    },
    {
      "cell_type": "code",
      "metadata": {
        "trusted": true,
        "id": "n0LP9W7PmqEc"
      },
      "source": [
        "soup_corretoras.find('tbody').find_all('tr')"
      ],
      "execution_count": null,
      "outputs": []
    },
    {
      "cell_type": "code",
      "metadata": {
        "trusted": true,
        "id": "VdhLV9CSmqEd"
      },
      "source": [
        "soup_corretoras.find('tbody').find_all('tr')[0]"
      ],
      "execution_count": null,
      "outputs": []
    },
    {
      "cell_type": "code",
      "metadata": {
        "trusted": true,
        "id": "v0LN8HyomqEd"
      },
      "source": [
        "soup_corretoras.find('tbody').find_all('tr')[0].find_all('td')"
      ],
      "execution_count": null,
      "outputs": []
    },
    {
      "cell_type": "code",
      "metadata": {
        "trusted": true,
        "id": "QRdQVM_UmqEe"
      },
      "source": [
        "print('Corretora: ', soup_corretoras.find('tbody').find_all('tr')[0].find_all('td')[0].get_text())\n",
        "print('Contatos: ', soup_corretoras.find('tbody').find_all('tr')[0].find_all('td')[1].get_text())"
      ],
      "execution_count": null,
      "outputs": []
    },
    {
      "cell_type": "code",
      "metadata": {
        "trusted": true,
        "id": "HwIFAh2YmqEe"
      },
      "source": [
        "soup_corretoras.find('tbody').find_all('tr')[0].find_all('td')[1].get_text().split(' - Fone:')"
      ],
      "execution_count": null,
      "outputs": []
    },
    {
      "cell_type": "code",
      "metadata": {
        "trusted": true,
        "id": "L2IzkgTumqEf"
      },
      "source": [
        "print('Corretora: ', soup_corretoras.find('tbody').find_all('tr')[0].find_all('td')[0].get_text())\n",
        "\n",
        "contato = soup_corretoras.find('tbody').find_all('tr')[0].find_all('td')[1].get_text().split(' - Fone:')\n",
        "print('Nome: ', contato[0])\n",
        "print('Telefone: ', contato[1])"
      ],
      "execution_count": null,
      "outputs": []
    },
    {
      "cell_type": "markdown",
      "metadata": {
        "id": "rb0odS5KmqEf"
      },
      "source": [
        "#### Salvando os dados nas listas"
      ]
    },
    {
      "cell_type": "code",
      "metadata": {
        "trusted": true,
        "id": "0QhWK3UumqEg"
      },
      "source": [
        "lista_corretoras.append(soup_corretoras.find('tbody').find_all('tr')[0].find_all('td')[0].get_text())\n",
        "lista_nomes.append(contato[0])\n",
        "lista_contatos.append(contato[1])"
      ],
      "execution_count": null,
      "outputs": []
    },
    {
      "cell_type": "code",
      "metadata": {
        "trusted": true,
        "id": "Ko71c3g0mqEg"
      },
      "source": [
        "lista_corretoras, lista_nomes, lista_contatos"
      ],
      "execution_count": null,
      "outputs": []
    },
    {
      "cell_type": "markdown",
      "metadata": {
        "id": "MSGH_2OBmqEh"
      },
      "source": [
        "### 4.2) Coletando dados da corretora 'Carangueijo'"
      ]
    },
    {
      "cell_type": "code",
      "metadata": {
        "trusted": true,
        "id": "Ohe_eRYMmqEh"
      },
      "source": [
        "soup_corretoras.find('tbody').find_all('tr')[1]"
      ],
      "execution_count": null,
      "outputs": []
    },
    {
      "cell_type": "code",
      "metadata": {
        "trusted": true,
        "id": "x7yC4YbjmqEi"
      },
      "source": [
        "soup_corretoras.find('tbody').find_all('tr')[1].find_all('td')"
      ],
      "execution_count": null,
      "outputs": []
    },
    {
      "cell_type": "markdown",
      "metadata": {
        "id": "7WUYqQONmqEi"
      },
      "source": [
        "#### Problema de aplicar a mesma solução da corretora 'Tubarão'"
      ]
    },
    {
      "cell_type": "code",
      "metadata": {
        "trusted": true,
        "id": "bnQaXR3JmqEj"
      },
      "source": [
        "soup_corretoras.find('tbody').find_all('tr')[1].find_all('td')[1].get_text().split(' - Fone:')"
      ],
      "execution_count": null,
      "outputs": []
    },
    {
      "cell_type": "markdown",
      "metadata": {
        "id": "orEU66ahmqEj"
      },
      "source": [
        "#### Resolvendo o problema"
      ]
    },
    {
      "cell_type": "code",
      "metadata": {
        "trusted": true,
        "id": "v32T-oFnmqEk"
      },
      "source": [
        "soup_corretoras.find('tbody').find_all('tr')[1].find_all('td')[1].get_text().split('; ')"
      ],
      "execution_count": null,
      "outputs": []
    },
    {
      "cell_type": "code",
      "metadata": {
        "trusted": true,
        "id": "tjGmT0iWmqEk"
      },
      "source": [
        "for item in soup_corretoras.find('tbody').find_all('tr')[1].find_all('td')[1].get_text().split('; '):\n",
        "    print(item.split(' - Fone:'))"
      ],
      "execution_count": null,
      "outputs": []
    },
    {
      "cell_type": "code",
      "metadata": {
        "trusted": true,
        "id": "GYVoPjiEmqEk"
      },
      "source": [
        "print('Corretora: ', soup_corretoras.find('tbody').find_all('tr')[1].find_all('td')[0].get_text())\n",
        "\n",
        "contatos = soup_corretoras.find('tbody').find_all('tr')[1].find_all('td')[1].get_text().split('; ')\n",
        "\n",
        "for contato in contatos:\n",
        "    contato = contato.split(' - Fone:')\n",
        "    print('Nome: ', contato[0])\n",
        "    print('Telefone: ', contato[1])"
      ],
      "execution_count": null,
      "outputs": []
    },
    {
      "cell_type": "markdown",
      "metadata": {
        "id": "6vu9Q7uXmqEl"
      },
      "source": [
        "#### Salvando os dados nas listas"
      ]
    },
    {
      "cell_type": "code",
      "metadata": {
        "trusted": true,
        "id": "Y1irvNbJmqEl"
      },
      "source": [
        "contatos = soup_corretoras.find('tbody').find_all('tr')[1].find_all('td')[1].get_text().split('; ')\n",
        "\n",
        "for contato in contatos:\n",
        "    lista_corretoras.append(soup_corretoras.find('tbody').find_all('tr')[1].find_all('td')[0].get_text())\n",
        "    \n",
        "    contato = contato.split(' - Fone:')\n",
        "    \n",
        "    lista_nomes.append(contato[0])\n",
        "    lista_contatos.append(contato[1])"
      ],
      "execution_count": null,
      "outputs": []
    },
    {
      "cell_type": "code",
      "metadata": {
        "trusted": true,
        "id": "6_L7PRckmqEm"
      },
      "source": [
        "lista_corretoras, lista_nomes, lista_contatos"
      ],
      "execution_count": null,
      "outputs": []
    },
    {
      "cell_type": "markdown",
      "metadata": {
        "id": "UjbGpv4fmqEm"
      },
      "source": [
        "### 4.3) Coletando dados da corretora 'Baleia Azul'"
      ]
    },
    {
      "cell_type": "code",
      "metadata": {
        "trusted": true,
        "id": "vk0Bp5nkmqEm"
      },
      "source": [
        "soup_corretoras.find('tbody').find_all('tr')[2]"
      ],
      "execution_count": null,
      "outputs": []
    },
    {
      "cell_type": "code",
      "metadata": {
        "trusted": true,
        "id": "G3tF_-cZmqEn"
      },
      "source": [
        "soup_corretoras.find('tbody').find_all('tr')[2].find_all('td')"
      ],
      "execution_count": null,
      "outputs": []
    },
    {
      "cell_type": "code",
      "metadata": {
        "trusted": true,
        "id": "YgNTZFtQmqEn"
      },
      "source": [
        "soup_corretoras.find('tbody').find_all('tr')[2].find_all('td')[1].find_all('li')"
      ],
      "execution_count": null,
      "outputs": []
    },
    {
      "cell_type": "code",
      "metadata": {
        "trusted": true,
        "id": "C663Xsh5mqEo"
      },
      "source": [
        "print('Corretora: ', soup_corretoras.find('tbody').find_all('tr')[2].find_all('td')[0].get_text())\n",
        "\n",
        "contatos = soup_corretoras.find('tbody').find_all('tr')[2].find_all('td')[1].find_all('li')\n",
        "\n",
        "for contato in contatos:\n",
        "    contato = contato.get_text().split(' - Fone:')\n",
        "    print('Nome: ', contato[0])\n",
        "    print('Telefone: ', contato[1])"
      ],
      "execution_count": null,
      "outputs": []
    },
    {
      "cell_type": "markdown",
      "metadata": {
        "id": "dYiTRybYmqEp"
      },
      "source": [
        "#### Salvando os dados nas listas"
      ]
    },
    {
      "cell_type": "code",
      "metadata": {
        "trusted": true,
        "id": "KWQpPHN6mqEp"
      },
      "source": [
        "contatos = soup_corretoras.find('tbody').find_all('tr')[2].find_all('td')[1].find_all('li')\n",
        "\n",
        "for contato in contatos:\n",
        "    lista_corretoras.append(soup_corretoras.find('tbody').find_all('tr')[2].find_all('td')[0].get_text())\n",
        "    \n",
        "    contato = contato.get_text().split(' - Fone:')\n",
        "    \n",
        "    lista_nomes.append(contato[0])\n",
        "    lista_contatos.append(contato[1])"
      ],
      "execution_count": null,
      "outputs": []
    },
    {
      "cell_type": "code",
      "metadata": {
        "trusted": true,
        "id": "j5wKqDbYmqEq"
      },
      "source": [
        "lista_corretoras, lista_nomes, lista_contatos"
      ],
      "execution_count": null,
      "outputs": []
    },
    {
      "cell_type": "markdown",
      "metadata": {
        "id": "hIGihLh3mqEq"
      },
      "source": [
        "### 4.4) Coletando dados da corretora 'Enguia'"
      ]
    },
    {
      "cell_type": "code",
      "metadata": {
        "trusted": true,
        "id": "9nTe-X8LmqEq"
      },
      "source": [
        "!pip install tabula-py"
      ],
      "execution_count": null,
      "outputs": []
    },
    {
      "cell_type": "code",
      "metadata": {
        "trusted": true,
        "id": "giWwjVvPmqEr"
      },
      "source": [
        "import tabula"
      ],
      "execution_count": null,
      "outputs": []
    },
    {
      "cell_type": "code",
      "metadata": {
        "trusted": true,
        "id": "jD55kZCumqEr"
      },
      "source": [
        "soup_corretoras.find('tbody').find_all('tr')[3].find_all('td')"
      ],
      "execution_count": null,
      "outputs": []
    },
    {
      "cell_type": "code",
      "metadata": {
        "trusted": true,
        "id": "BJnJjqxymqEs"
      },
      "source": [
        "soup_corretoras.find('tbody').find_all('tr')[3].find_all('td')[1]"
      ],
      "execution_count": null,
      "outputs": []
    },
    {
      "cell_type": "code",
      "metadata": {
        "trusted": true,
        "id": "bZvrOwpZmqEs"
      },
      "source": [
        "soup_corretoras.find('tbody').find_all('tr')[3].find_all('td')[1].find('a')"
      ],
      "execution_count": null,
      "outputs": []
    },
    {
      "cell_type": "code",
      "metadata": {
        "trusted": true,
        "id": "LAgq19hkmqEs"
      },
      "source": [
        "soup_corretoras.find('tbody').find_all('tr')[3].find_all('td')[1].find('a').get('href')"
      ],
      "execution_count": null,
      "outputs": []
    },
    {
      "cell_type": "code",
      "metadata": {
        "trusted": true,
        "id": "4ALQK6HsmqEt"
      },
      "source": [
        "nome_pdf = soup_corretoras.find('tbody').find_all('tr')[3].find_all('td')[1].find('a').get('href')\n",
        "arquivo = 'https://ocean-web-scraping.herokuapp.com/' + nome_pdf\n",
        "arquivo"
      ],
      "execution_count": null,
      "outputs": []
    },
    {
      "cell_type": "code",
      "metadata": {
        "trusted": true,
        "id": "hSOpXIKymqEt"
      },
      "source": [
        "corretora_enguia_df = tabula.read_pdf(arquivo, pages='all', multiple_tables=False)[0]"
      ],
      "execution_count": null,
      "outputs": []
    },
    {
      "cell_type": "code",
      "metadata": {
        "trusted": true,
        "id": "f_vH-GMXmqEu"
      },
      "source": [
        "corretora_enguia_df"
      ],
      "execution_count": null,
      "outputs": []
    },
    {
      "cell_type": "code",
      "metadata": {
        "trusted": true,
        "id": "fMJSzbNsmqEv"
      },
      "source": [
        "print('Corretora: ', soup_corretoras.find('tbody').find_all('tr')[3].find_all('td')[0].get_text())\n",
        "\n",
        "for nome,contato in zip(corretora_enguia_df['Corretor(a)'].to_list(),\n",
        "                        corretora_enguia_df['Contato'].to_list()):\n",
        "    print(nome)\n",
        "    print(contato.replace('Fone:',''))"
      ],
      "execution_count": null,
      "outputs": []
    },
    {
      "cell_type": "markdown",
      "metadata": {
        "id": "0BQDB2zFmqEv"
      },
      "source": [
        "#### Salvando os dados nas listas"
      ]
    },
    {
      "cell_type": "code",
      "metadata": {
        "trusted": true,
        "id": "9NlVCrtCmqEw"
      },
      "source": [
        "for nome,contato in zip(corretora_enguia_df['Corretor(a)'].to_list(),\n",
        "                        corretora_enguia_df['Contato'].to_list()):\n",
        "    lista_corretoras.append(soup_corretoras.find('tbody').find_all('tr')[3].find_all('td')[0].get_text())\n",
        "    lista_nomes.append(nome)\n",
        "    lista_contatos.append(contato.replace('Fone:',''))"
      ],
      "execution_count": null,
      "outputs": []
    },
    {
      "cell_type": "code",
      "metadata": {
        "trusted": true,
        "id": "Zx0i9J0tmqEw"
      },
      "source": [
        "lista_corretoras, lista_nomes, lista_contatos"
      ],
      "execution_count": null,
      "outputs": []
    },
    {
      "cell_type": "markdown",
      "metadata": {
        "id": "2uVCzkzzmqEw"
      },
      "source": [
        "### 4.5) Persistindo todas as informações das corretoras"
      ]
    },
    {
      "cell_type": "code",
      "metadata": {
        "trusted": true,
        "id": "_-mupdbVmqEx"
      },
      "source": [
        "contatos_corretoras_dict.update({'Corretoras': lista_corretoras,\n",
        "                                 'Nomes': lista_nomes,\n",
        "                                 'Contatos': lista_contatos})\n",
        "\n",
        "contatos_corretoras_dict"
      ],
      "execution_count": null,
      "outputs": []
    },
    {
      "cell_type": "code",
      "metadata": {
        "trusted": true,
        "id": "Sv98z57imqEx"
      },
      "source": [
        "contatos_corretoras_df = pd.DataFrame.from_dict(contatos_corretoras_dict)\n",
        "\n",
        "contatos_corretoras_df"
      ],
      "execution_count": null,
      "outputs": []
    },
    {
      "cell_type": "code",
      "metadata": {
        "trusted": true,
        "id": "AeW6uq21mqEy"
      },
      "source": [
        "contatos_corretoras_df.to_csv('./contatos_corretoras.csv', sep = ';', index = False, encoding = 'utf-8')"
      ],
      "execution_count": null,
      "outputs": []
    },
    {
      "cell_type": "markdown",
      "metadata": {
        "id": "7YE9cmalmqEy"
      },
      "source": [
        "## 5) Análise dos dados coletados"
      ]
    },
    {
      "cell_type": "code",
      "metadata": {
        "trusted": true,
        "id": "GVk3n9oTmqEz"
      },
      "source": [
        "resultados_df"
      ],
      "execution_count": null,
      "outputs": []
    },
    {
      "cell_type": "markdown",
      "metadata": {
        "id": "ax5oLU_HmqEz"
      },
      "source": [
        "#### 5.1) Eu gostaria de pagar um aluguel de no máximo R$ 1.800,00 e morar em um apto de pelo menos 2 quartos e com 1 vaga na garagem, no Oceano Atlântico"
      ]
    },
    {
      "cell_type": "code",
      "metadata": {
        "trusted": true,
        "id": "QQ-UqgtemqE0"
      },
      "source": [
        "busca = resultados_df['aluguel'] <= 1800\n",
        "busca"
      ],
      "execution_count": null,
      "outputs": []
    },
    {
      "cell_type": "code",
      "metadata": {
        "trusted": true,
        "id": "nzPk1zEymqE0"
      },
      "source": [
        "len(resultados_df.loc[busca])"
      ],
      "execution_count": null,
      "outputs": []
    },
    {
      "cell_type": "code",
      "metadata": {
        "trusted": true,
        "id": "akN_k93xmqE1"
      },
      "source": [
        "resultados_df.loc[busca]"
      ],
      "execution_count": null,
      "outputs": []
    },
    {
      "cell_type": "code",
      "metadata": {
        "trusted": true,
        "id": "zqBLtbSjmqE1"
      },
      "source": [
        "busca = ((resultados_df['aluguel'] <= 1800) & (resultados_df['quartos'] >= 2))"
      ],
      "execution_count": null,
      "outputs": []
    },
    {
      "cell_type": "code",
      "metadata": {
        "trusted": true,
        "id": "C_Vn_fPhmqE2"
      },
      "source": [
        "len(resultados_df.loc[busca])"
      ],
      "execution_count": null,
      "outputs": []
    },
    {
      "cell_type": "code",
      "metadata": {
        "trusted": true,
        "id": "jN4-hWlamqE2"
      },
      "source": [
        "resultados_df.loc[busca]"
      ],
      "execution_count": null,
      "outputs": []
    },
    {
      "cell_type": "code",
      "metadata": {
        "trusted": true,
        "id": "ez0oGK63mqE3"
      },
      "source": [
        "busca = ((resultados_df['aluguel'] <= 1800) & \n",
        "         (resultados_df['quartos'] >= 2) & \n",
        "         (resultados_df['vagas garagem'] >= 1))"
      ],
      "execution_count": null,
      "outputs": []
    },
    {
      "cell_type": "code",
      "metadata": {
        "trusted": true,
        "id": "EPKOS47gmqE3"
      },
      "source": [
        "len(resultados_df.loc[busca])"
      ],
      "execution_count": null,
      "outputs": []
    },
    {
      "cell_type": "code",
      "metadata": {
        "trusted": true,
        "id": "tY8o1XwdmqE4"
      },
      "source": [
        "resultados_df.loc[busca]"
      ],
      "execution_count": null,
      "outputs": []
    },
    {
      "cell_type": "code",
      "metadata": {
        "trusted": true,
        "id": "Te_ZujQcmqE4"
      },
      "source": [
        "busca = ((resultados_df['aluguel'] <= 1800) & \n",
        "         (resultados_df['quartos'] >= 2) & \n",
        "         (resultados_df['vagas garagem'] >= 1) &\n",
        "         (resultados_df['localizacao'] == 'Oceano Atlântico'))"
      ],
      "execution_count": null,
      "outputs": []
    },
    {
      "cell_type": "code",
      "metadata": {
        "trusted": true,
        "id": "m-lns03OmqE5"
      },
      "source": [
        "len(resultados_df.loc[busca])"
      ],
      "execution_count": null,
      "outputs": []
    },
    {
      "cell_type": "code",
      "metadata": {
        "trusted": true,
        "id": "aljndcSYmqE5"
      },
      "source": [
        "resultados_df.loc[busca]"
      ],
      "execution_count": null,
      "outputs": []
    },
    {
      "cell_type": "markdown",
      "metadata": {
        "id": "BHK_ZnnmmqE6"
      },
      "source": [
        "#### Entrando em contato com as corretoras"
      ]
    },
    {
      "cell_type": "code",
      "metadata": {
        "trusted": true,
        "id": "zHtVuzvUmqE7"
      },
      "source": [
        "contatos_corretoras_df"
      ],
      "execution_count": null,
      "outputs": []
    },
    {
      "cell_type": "code",
      "metadata": {
        "trusted": true,
        "id": "4YeWz4kbmqE7"
      },
      "source": [
        "busca_corretora = contatos_corretoras_df['Corretoras'] == 'Carangueijo'"
      ],
      "execution_count": null,
      "outputs": []
    },
    {
      "cell_type": "code",
      "metadata": {
        "trusted": true,
        "id": "je26aSfemqE8"
      },
      "source": [
        "contatos_corretoras_df.loc[busca_corretora]"
      ],
      "execution_count": null,
      "outputs": []
    },
    {
      "cell_type": "markdown",
      "metadata": {
        "id": "Omzh-DmXmqE8"
      },
      "source": [
        "## 6) Exemplos de outras análises"
      ]
    },
    {
      "cell_type": "code",
      "metadata": {
        "trusted": true,
        "id": "aMacpdk4mqE9"
      },
      "source": [
        "import matplotlib.pyplot as plt\n",
        "import seaborn as sns"
      ],
      "execution_count": null,
      "outputs": []
    },
    {
      "cell_type": "code",
      "metadata": {
        "trusted": true,
        "id": "kGNkR6wumqE-"
      },
      "source": [
        "sns.set(font_scale=1.4)\n",
        "sns.set_style({'font.family': 'serif',\n",
        "               'fontname': 'Times New Roman'})"
      ],
      "execution_count": null,
      "outputs": []
    },
    {
      "cell_type": "markdown",
      "metadata": {
        "id": "WvrI1eNbmqE-"
      },
      "source": [
        "### Quem tem mais/menos imóveis?"
      ]
    },
    {
      "cell_type": "code",
      "metadata": {
        "trusted": true,
        "id": "u0jZocWwmqE_"
      },
      "source": [
        "resultados_df['localizacao'].value_counts()"
      ],
      "execution_count": null,
      "outputs": []
    },
    {
      "cell_type": "code",
      "metadata": {
        "trusted": true,
        "id": "oK8akpwkmqE_"
      },
      "source": [
        "resultados_df['localizacao'].value_counts().sort_values().plot(kind = 'barh', \n",
        "                                                               figsize=(8, 5))"
      ],
      "execution_count": null,
      "outputs": []
    },
    {
      "cell_type": "markdown",
      "metadata": {
        "id": "hYc2mLmdmqE_"
      },
      "source": [
        "> ### Quais são os locais com imóveis maiores/menores e com os imóveis mais baratos/caros?"
      ]
    },
    {
      "cell_type": "code",
      "metadata": {
        "trusted": true,
        "id": "uhWbil7hmqFA"
      },
      "source": [
        "fig_dims = (8, 6)\n",
        "fig, ax = plt.subplots(figsize=fig_dims)\n",
        "\n",
        "sns.scatterplot(data = resultados_df, \n",
        "                x = 'área', \n",
        "                y = 'aluguel', \n",
        "                hue = 'localizacao',\n",
        "                s = 200,\n",
        "                ax = ax)"
      ],
      "execution_count": null,
      "outputs": []
    }
  ]
}